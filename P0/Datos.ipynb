{
 "cells": [
  {
   "cell_type": "code",
   "execution_count": 35,
   "metadata": {},
   "outputs": [
    {
     "name": "stdout",
     "output_type": "stream",
     "text": [
      "[['A11' '6' 'A34' 'A43' '1169' 'A65' 'A75' '4' 'A93' 'A101' '4' 'A121'\n",
      "  '67' 'A143' 'A152' '2' 'A173' '1' 'A192' 'A201' '1']\n",
      " ['A12' '48' 'A32' 'A43' '5951' 'A61' 'A73' '2' 'A92' 'A101' '2' 'A121'\n",
      "  '22' 'A143' 'A152' '1' 'A173' '1' 'A191' 'A201' '2']\n",
      " ['A14' '12' 'A34' 'A46' '2096' 'A61' 'A74' '2' 'A93' 'A101' '3' 'A121'\n",
      "  '49' 'A143' 'A152' '1' 'A172' '2' 'A191' 'A201' '1']]\n"
     ]
    }
   ],
   "source": [
    "import numpy as np\n",
    "\n",
    "class Datos:\n",
    "  \n",
    "  TiposDeAtributos=('Continuo','Nominal')\n",
    " \n",
    "  def __init__(self, nombreFichero):\n",
    "    f = open( nombreFichero, \"r\")\n",
    "    nDatos = int(f.readline()) # Unused?\n",
    "    #Read attributes names line and store it\n",
    "    self.nombreAtributos = f.readline()[:-1].split(',')\n",
    "    \n",
    "    #Read attributes types line and store it. Check for invalid types.\n",
    "    self.tipoAtributos = f.readline()[:-1].split(',')\n",
    "    \n",
    "    for tipo in self.tipoAtributos:\n",
    "        if tipo not in self.TiposDeAtributos:\n",
    "            raise ValueError(tipo)\n",
    "            \n",
    "    # List containing True in the ith position if the ith atribute is nominal, False otherwise\n",
    "    self.nominalAtributos = [True if i == 'Nominal' else False for i in self.tipoAtributos ]\n",
    "    \n",
    "    # We create a list whose elements are lists containing the data, and we get a no.array from it\n",
    "    datos = []\n",
    "    for line in f:\n",
    "        datos.append(line[:-1].split(','))\n",
    "    self.datos = np.array(datos)\n",
    "    #TODO Crear diccionarios\n",
    "    self.diccionarios = []\n",
    "    \n",
    "    \n",
    "    print(self.datos[:3])\n",
    "    f.close()\n",
    "    \n",
    "  # TODO: implementar en la práctica 1\n",
    "  def extraeDatos(self, idx):\n",
    "    pass\n",
    "\n",
    "dataset=Datos('./german.data')\n",
    "  "
   ]
  },
  {
   "cell_type": "code",
   "execution_count": null,
   "metadata": {},
   "outputs": [],
   "source": []
  }
 ],
 "metadata": {
  "kernelspec": {
   "display_name": "Python 3",
   "language": "python",
   "name": "python3"
  },
  "language_info": {
   "codemirror_mode": {
    "name": "ipython",
    "version": 3
   },
   "file_extension": ".py",
   "mimetype": "text/x-python",
   "name": "python",
   "nbconvert_exporter": "python",
   "pygments_lexer": "ipython3",
   "version": "3.6.8"
  }
 },
 "nbformat": 4,
 "nbformat_minor": 2
}
