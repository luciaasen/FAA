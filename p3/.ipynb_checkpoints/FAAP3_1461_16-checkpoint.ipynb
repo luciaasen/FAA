{
 "cells": [
  {
   "cell_type": "markdown",
   "metadata": {},
   "source": [
    "# Práctica 3 FAA\n",
    "___\n",
    "#### Grupo 1461, pareja 16\n",
    "#### Alfonso Carvajal y Lucía Asencio\n",
    "___"
   ]
  },
  {
   "cell_type": "markdown",
   "metadata": {},
   "source": [
    "## Apartado 1: Esquema de Representacion\n",
    "___"
   ]
  },
  {
   "cell_type": "markdown",
   "metadata": {},
   "source": [
    "En esta práctica solo se considera que vamos a clasificar datos nominales y que cada dato pertenece a un espacio de 2 clases.\n",
    "\n",
    "Para el algoritmo genético programado, se genera primero una población aleatoria de tamaño fijo de cromosomas. Hemos utilizado el enfoque Pittsburgh para el enfoque del Cromosoma, de manera que cada cromosoma es un conjunto de reglas (en nuestro caso, este conjunto puede variar en tamaño de un cromosoma a otro).\n",
    "\n",
    "### Cromosoma\n",
    "En nuestro caso un cromosoma es un conjunto de reglas. Cada regla es un conjunto de bits dividido en subconjuntos que representan la parte de la regla para un atributo concreto y el bit de predicción. Para entender la codificación nos remitimos a un ejemplo. Supongamos que un dato tiene 3 atributos y 2 clases. El primer atributo toma 2 valores, el segundo 3 y el tercero 2. Se toman k bits para codificar un atributo de manera que para codificar este atributo tendríamos 2+3+2=7 bits.\n",
    "\n",
    "Supongamos que:\n",
    "   * **Atributo 1**: Toma valores {a,b}\n",
    "   * **Atributo 2**: Toma valores {0,1,2}\n",
    "   * **Atributo 3**: Toma valores {s,o}\n",
    "\n",
    "Codificaríamos el dato como xx xxx xx donde 'x' representa un bit.\n",
    "    \n",
    "   * **Atributo 1**: 10 representa valor de a\n",
    "   * **Atributo 1**: 01 representa valor de b\n",
    "   \n",
    "   * **Atributo 2**: 100 representa valor de 0\n",
    "   * **Atributo 2**: 010 representa valor de 1\n",
    "   * **Atributo 2**: 001 representa valor de 2\n",
    "    \n",
    "   * **Atributo 3**: 10 representa valor de s\n",
    "   * **Atributo 3**: 01 representa valor de o\n",
    "    \n",
    "De forma que si el dato fuera a1s su representación sería: 10 010 10\n",
    "    \n",
    "Ahora, siguiendo con esta codificación, una regla es un esquema que clasifica. Cada bit de una regla (menos el último) corresponde a un valor particular de un atributo determinado. Así, si una regla tiene un bit a 1, reconocerá a datos que tengan atributo = valor para el atributo y valor correspondiente. Es decir, la regla lo reconocerá bajo su esquema. El último bit es la clase.\n",
    "\n",
    "   * **Regla 1**: 10 010 10 1 clasifica el dato del ejemplo con un 1\n",
    "   * **Regla 2**: 10 010 10 0 clasifica el dato del ejemplo con un 0\n",
    "   * **Regla 3**: 11 010 10 0 clasifica el dato del ejemplo con un 0, pero también clasificaría el dato 01 010 10 con un 0\n",
    "   * **Regla 4**: 10 111 10 0 clasifica el dato del ejemplo con un 0, pero también clasificaría el dato 10 100 10 con un 0, y también clasificaría el dato 10 001 10 con un 0\n",
    "   * **Regla 5**: 11 111 11 0 clasificaría cualquier dato con un 0\n",
    "   * **Regla 6**: 01 010 10 0 no clasifica el dato del ejemplo porque no cumple su esquema\n",
    "\n",
    "Visto de otra manera, la regla 4 (por ejemplo) reconocerá a datos donde el atributo 1 valga a, el atributo 2 valga 0, 1 o 2 y el atributo 3 valga s, y lo clasificará como 0.\n",
    "### Detalles de implementación\n",
    "\n",
    "#### Generación de población inicial\n",
    "Al principio del entrenamiento se genera una población de individuos de tamaño tamPoblacion (que por defecto es 100). En cuanto al número de reglas por individuo, hemos incluido en la inicialización del Clasificador un parametro llamado maxReglas (por defecto 10) de manera que se puede setear manualmente.  \n",
    "A cada cromosoma que se crea (`cr.Cromosoma(r.randint(1,self.maxReglas)`) se le asigna un número aleatorio de reglas entre 1 y maxReglas. De esta manera aseguramos algo de variazna en el número de reglas que tienen los individuos de la población.\n",
    "\n",
    "#### Mecanismo de Cruce implementado\n",
    "Se ha implementado un cruce en 1 punto y teniendo en consideración que dos individuos pueden tener un número de reglas distinto. Además, para mantener la semántica de las reglas, hemos asegurado que el cruce sea el el mismo punto para ambos individuos.\n",
    "\n",
    "Ejemplo:\n",
    "\n",
    "    Cr1 tiene 01 111 11 1  11 010 10 0\n",
    "    Cr2 tiene 11 001 01 0\n",
    "    \n",
    "Y pongamos que el cruce se hace en pos = 4\n",
    "    \n",
    "    Cr1 01 11|1 11 1  11 010 10 0\n",
    "    Cr2 11 00|1 01 0\n",
    "    \n",
    "    Cr1' = 11 001 11 1  11 010 10 0\n",
    "    Cr2' = 01 111 01 0\n",
    "    \n",
    "El número pos se elige aleatoriamente entre 0 y la longitud del cromosoma más pequeño\n",
    "    \n",
    "#### Mecanismo de Mutación\n",
    "Se ha implementado el cambio de un bit aleatorio de un individuo.\n",
    "\n",
    "Ejemplo:\n",
    "\n",
    "    Cr1 = 11 001 11 1  11 010 10 0\n",
    "Se elige una posición aleatoria y se cambia un bit\n",
    "\n",
    "    Cr1' = 11 001 11 0  11 010 10 0\n",
    "    \n",
    "#### Mecanismo de clasificación\n",
    "Se ha implementado un mecanismo por voto. Cada regla del cromosoma clasifica el dato y se suman los votos. El mayor gana. En el caso de que una regla no 'reconozca' un dato, esa regla no participa en la clasificación del mismo. Para el 'reconocimiento' de un dato, se ha utilizado el producto escalar, entendiendo que si una regla 'reconoce' un dato, el resultado de ese producto escalar será el numero de atributos.\n",
    "\n",
    "Dato: 10 010 10  \n",
    "Cr1 = 11 011 11 1  11 010 10 0  01 011 11 1  \n",
    "Producto Escalar:  \n",
    "11 011 11 . 10 010 10 = 3 = Número de atributos. Por tanto la regla reconoce el dato  \n",
    "01 011 11 . 10 010 10 = 2 < Número de atributos. Por tanto la regla no reconoce el dato\n",
    "                    \n",
    "Clasificación:\n",
    "   * Regla 1: 11 001 11 1 --> clasifica el dato con un 1\n",
    "   * Regla 2: 11 010 10 0 --> clasifica el dato con un 0\n",
    "   * Regla 2: 10 011 11 1 --> clasifica el dato con un 1\n",
    "    \n",
    "Por tanto el individuo clasifica ese dato con un 1\n",
    "\n",
    "##### NOTA\n",
    "En caso de empate, se clasifica con un valor por defecto. Hemos incluido la opción de utilizar un Prior, que en el entrenamiento obtiene la clase que más aparece. Si la opción usePrior está activada, entonces se clasificará con ese valor en caso de empate.\n",
    "\n",
    "\n"
   ]
  },
  {
   "cell_type": "markdown",
   "metadata": {},
   "source": [
    "## Apartado 2: Resultados Clasificación\n",
    "\n"
   ]
  },
  {
   "cell_type": "markdown",
   "metadata": {},
   "source": [
    "Para cada fichero, hemos variado el tamaño de la población, el número de generaciones máximo, el número máximo de reglas, los porcentajes que juegan en el elitismo y el cruce y el número de repeticiones de cada prueba. \n",
    "Esto se hace a través de la función a continuación definida.\n",
    "\n",
    "Todos las salidas de las pruebas bajo diferentes parámetros han sido volcadas en un .txt que luego importamos desde una hoja de cálculo para poder analizarlos más fácilmente.  \n",
    "La hoja de cálculo puede consultarse [aquí](https://docs.google.com/spreadsheets/d/1KEFLPZqcllPsKxqRg4N7S1LZk6B93LXa4TzFXUcG9wM/edit?usp=sharing \"Hojas de datos\")   \n",
    "En un principio, los resultados se mostraban también en el notebook, pero eran tantas las pruebas ejecutadas que nuetsros ordenadores no procesaban bien el ipynb, ni cuando exportábamos a html, y no podíamos editar el cuaderno sin que el ordenador se congelara continuamente. Así que, como eníamos los datos volcados en ficheros externos, optamos por eliminar dentro del cuaderno los outputs de las celdas de código del json del cuaderno. De ualqiuer manera, los resultados pueden encontrarse si se desea en los txt y en las hojas de cálculo."
   ]
  },
  {
   "cell_type": "code",
   "execution_count": 5,
   "metadata": {},
   "outputs": [
    {
     "name": "stdout",
     "output_type": "stream",
     "text": [
      "[{'+': 0, '-': 1}, {'+': 0, '-': 1}, {'+': 0, '-': 1}]\n",
      "[{'+': 0, '-': 1}, {'+': 0, '-': 1}, {'+': 0, '-': 1}]\n",
      "[{'b': 0, 'o': 1, 'x': 2}, {'b': 0, 'o': 1, 'x': 2}, {'b': 0, 'o': 1, 'x': 2}, {'b': 0, 'o': 1, 'x': 2}, {'b': 0, 'o': 1, 'x': 2}, {'b': 0, 'o': 1, 'x': 2}, {'b': 0, 'o': 1, 'x': 2}, {'b': 0, 'o': 1, 'x': 2}, {'b': 0, 'o': 1, 'x': 2}, {'negative': 0, 'positive': 1}]\n"
     ]
    }
   ],
   "source": [
    "import Datos as d\n",
    "dics = []\n",
    "dicc = {'ejemplo1' : './DatasetEjemplo/ejemplo1.data', 'ejemplo2' : './DatasetEjemplo/ejemplo2.data','tic' : './DatasetEjemplo/tic-tac-toe.data'}\n",
    "for fileName in dicc:\n",
    "    dataset = d.Datos(dicc[fileName])\n",
    "    dics.append(dataset.diccionarios)\n",
    "    print(dataset.diccionarios)\n"
   ]
  },
  {
   "cell_type": "code",
   "execution_count": 55,
   "metadata": {},
   "outputs": [
    {
     "name": "stdout",
     "output_type": "stream",
     "text": [
      "{0: 'b', 1: 'o', 2: 'x'}\n",
      "[3, 6, 9, 12, 15, 18, 21, 24, 27]\n",
      "{'b': 0, 'o': 1, 'x': 2}\n"
     ]
    }
   ],
   "source": [
    "#inv_map = {v: k for k, v in my_map.items()}\n",
    "indiv = [1, 1, 0, 0, 1, 1, 1, 1, 0, 1, 1, 1, 1, 1, 1, 1, 1, 0, 1, 1, 1, 1, 1, 0, 1, 1, 1, 0, 1, 1, 1, 1, 1, 1, 1, 1, 0, 1, 1, 1, 1, 1, 0, 1, 1, 1, 1, 1, 0, 1, 1, 1, 1, 1, 1, 0, 1, 1, 0, 1, 1, 0, 0, 0, 0, 1, 1, 0, 1, 0, 0, 1, 0, 0, 1, 1, 0, 0, 1, 0, 1, 0, 0, 0, 1, 0, 1, 1, 0, 1, 1, 1, 0, 0, 1, 1, 1, 1, 0, 1, 1, 0, 0, 1, 0, 1, 0, 0, 1, 1, 0, 0, 0, 1, 1, 1, 1, 0, 0, 1, 1, 1, 1, 1, 0, 0, 0, 0, 0, 0, 0, 1, 1, 0, 1, 0, 0, 1, 1, 0, 0, 0, 1, 1, 0, 1, 1, 1, 1, 0, 1, 0, 1, 1, 1, 1, 1, 0, 1, 0, 1, 0, 0, 0, 0, 0, 0, 1, 1, 1, 1, 0, 1, 0, 1, 1, 1, 1, 1, 1, 0, 1, 0, 1, 1, 1, 1, 1, 1, 0, 1, 0, 1, 1, 1, 0, 0, 0, 0, 1, 1, 1, 0, 0, 0, 1, 0, 1, 0, 0, 0, 0, 0, 0, 0, 1, 0, 0, 0, 0, 0, 0, 1, 0, 1, 1, 1, 1, 1, 1, 0, 1, 0, 1, 1, 1, 1, 1, 1, 0, 1, 0, 1, 1, 1, 1, 1, 1, 0, 1, 0, 0, 0, 1, 0, 0, 1, 1, 1, 0, 0, 1, 0, 1, 1, 1, 1, 1, 0, 1, 0, 1, 0, 1, 1, 0, 0, 1, 1, 1, 1, 0, 0, 1, 1, 1, 0, 0, 1, 0, 0, 1, 0, 0, 1, 0, 0, 1, 1, 0, 0, 1, 0, 0, 0, 1, 1, 0, 1, 1, 1, 1, 0, 0, 1, 1, 0, 0, 0, 1, 1, 1, 1, 0, 1, 0, 0, 0, 0, 1, 1, 0, 0, 1, 0, 1, 1, 0, 0, 0, 1, 0, 0, 0, 1, 0, 0, 1, 0, 1, 0, 0, 0, 0, 0, 1, 1, 0, 0, 0, 0, 1, 0, 1, 1, 0, 0, 1, 1, 0, 1, 1, 0, 1, 0, 0, 1, 0, 0, 0, 1, 0, 0, 0, 1, 1, 1, 0, 0, 1, 1, 1, 0, 1, 1, 1, 1, 0, 1, 1, 0, 0, 1, 1, 1, 1, 0, 1, 0, 0, 1, 0, 1, 0, 0, 0, 0, 1, 0, 0, 1, 1, 0, 1, 1, 1, 1, 1, 1, 1, 1, 1, 1, 1, 0, 1, 1, 1, 1, 1, 1, 1, 1, 1, 1, 1, 0, 0, 1, 0, 1, 1, 0, 0, 1, 1, 1, 1, 0, 0, 0, 1, 1, 0, 0, 1, 1, 0, 0, 1, 0, 1, 1, 0, 0, 0, 1, 1, 0, 0, 1, 1, 0, 1, 0, 1, 0, 1, 1, 1, 1, 1, 1, 1, 0, 0, 1, 1, 1, 1, 1, 1, 0, 0, 0, 1, 0, 1, 1, 0, 0, 0, 1, 0, 1, 0, 0, 0, 1, 0, 1, 1, 1, 1, 0, 0, 1, 1, 0, 0, 1, 1\n",
    "]\n",
    "dicc = dics[2]\n",
    "tamregla = sum(len(dic) for dic in dicc[:-1]) + 1\n",
    "sliced = [indiv[i:i + tamregla] for i in range(0,len(indiv), tamregla)]\n",
    "\n",
    "cuts = []\n",
    "suma = 0\n",
    "for dic in dicc[:-1]:\n",
    "    suma += len(dic)\n",
    "    cuts.append(suma)\n",
    "sliced2 = []\n",
    "for chunk in sliced:\n",
    "    sliced2.append([chunk[i : j] for i, j in zip([0] + \n",
    "          cuts, cuts + [None])])\n",
    "\n",
    "inv_map = {v: k for k, v in dicc[0].items()}\n",
    "print(inv_map)\n",
    "print(cuts)\n",
    "print(dicc[0])"
   ]
  },
  {
   "cell_type": "code",
   "execution_count": 1,
   "metadata": {},
   "outputs": [],
   "source": [
    "import Datos as d\n",
    "import numpy as np\n",
    "import ClasificadorNew as cl\n",
    "import EstrategiaParticionado as ep\n",
    "\n",
    "\n",
    "def pruebaGenetica(dicc, porcentajes, tamsPob, gens, maxReglas, pElitismo, pCruce, repeticiones, outFile=None):\n",
    "    if outFile is None:\n",
    "        f = open('results.txt', \"w\")\n",
    "    else: f = open(outFile, \"w\")\n",
    "    cont = 0\n",
    "    total = len(dicc) * len(porcentajes) * len(tamsPob) * len(gens) * len(maxReglas) * len(pElitismo) * len(pCruce) * repeticiones\n",
    "    result_matrix = []\n",
    "    for fileName in dicc:\n",
    "        dataset = d.Datos(dicc[fileName])\n",
    "        for prcnt in porcentajes:\n",
    "            for tam in tamsPob:\n",
    "                for epoca in gens:\n",
    "                    for reg in maxReglas:\n",
    "                        for pe in pElitismo:\n",
    "                            for pc in pCruce:\n",
    "                                errors = []\n",
    "                                mejoresCr = []\n",
    "                                numGens = []\n",
    "                                avgFitness = []\n",
    "                                gen = cl.ClasificadorGenetico(tamPoblacion=tam, nEpocas=epoca, pCruce=pc, pElit=pe, maxReglas=reg, usePrior=True)\n",
    "                                for i in range(repeticiones):\n",
    "                                    cont += 1\n",
    "                                    print(\"Iteracion \",cont,\"/\", total)\n",
    "                                    estrategia = ep.ValidacionSimple(prcnt)\n",
    "                                    errors.append(gen.validacion(estrategia,dataset,gen))\n",
    "                                    mejoresCr.append([list(gen.poblacion[-1][0].reglas),gen.poblacion[-1][1]])\n",
    "                                    numGens.append(gen.currentGen)\n",
    "                                    avgFitness.append(gen.avgFitness)\n",
    "                                errorsnp = np.array(errors)\n",
    "                                numGensnp = np.array(numGens)\n",
    "                                avgFitnessnp = np.array(avgFitness)\n",
    "\n",
    "                                mean,std = np.mean(errors), np.std(errors)\n",
    "                                fitMean = np.mean(avgFitnessnp)\n",
    "                                gensMean = np.mean(numGensnp)\n",
    "                                f.write(str([dicc[fileName], prcnt, tam, epoca, reg, pe, pc, gensMean, fitMean, mean, std, mejoresCr]))\n",
    "                                f.write(\"\\n\")\n",
    "    f.close()\n",
    "\n",
    "\n"
   ]
  },
  {
   "cell_type": "markdown",
   "metadata": {},
   "source": [
    "Para el dataset `tic-tac-toe`, que es más grande y converge más lentamente, hemos tenido que restringir las pruebas.\n",
    "Hemos eliminado la opción de 1 sola regla y, como vimos que la desviación típica de los errores rondaba en torno al 0.02, nos hemos permitido bajar el número de repeticiones a 2 para obtener resultados en tiempos razonables. "
   ]
  },
  {
   "cell_type": "markdown",
   "metadata": {},
   "source": [
    "\n"
   ]
  },
  {
   "cell_type": "markdown",
   "metadata": {},
   "source": [
    "Esta celda ejecuta las pruebas sobre los dataset `ejemplo1` y `ejemplo2` haciendo que los parámetros tomen los valores debajo indicados. A continuación, extraeremos los mejores resultados de la hoja de cálculo correspondiente."
   ]
  },
  {
   "cell_type": "code",
   "execution_count": 2,
   "metadata": {},
   "outputs": [],
   "source": [
    "dicc = {'ejemplo1' : './DatasetEjemplo/ejemplo1.data', 'ejemplo2' : './DatasetEjemplo/ejemplo2.data'}\n",
    "porcentajes = [20, 40, 80]\n",
    "tamsPob = [100, 200]\n",
    "gens = [100, 300]\n",
    "maxReglas = [1, 5, 10, 15, 20]\n",
    "pElitismo = [0.05, 0.1, 0.15]\n",
    "pCruce = [0.2, 0.4, 0.6, 0.8, 0.85]\n",
    "repeticiones = 5\n",
    "\n",
    "# De la forma implementada, mutación es en función del elitismo y los cruces,\n",
    "# de manera que hay pMutacion = 1 - pElitismo - pCruce\n",
    "# La función devuelve una matriz con datos relevantes\n",
    "#       [dicc[fileName], prcnt, tam, epoca, reg, pe, pc, gensMean, fitMean, mean, std, mejoresCr]\n",
    "pruebaGenetica(dicc, porcentajes, tamsPob, gens, maxReglas, pElitismo, pCruce, repeticiones, outFile='results_cut.txt')\n"
   ]
  },
  {
   "cell_type": "code",
   "execution_count": 2,
   "metadata": {},
   "outputs": [],
   "source": [
    "dicc = dicc = {'tic' : './DatasetEjemplo/tic-tac-toe.data'}\n",
    "porcentajes = [20]\n",
    "tamsPob = [100, 200]\n",
    "gens = [100, 300]\n",
    "maxReglas = [5, 10, 15, 20]\n",
    "pElitismo = [0.05, 0.1, 0.15]\n",
    "pCruce = [0.2, 0.4, 0.6, 0.85]\n",
    "repeticiones = 2\n",
    "pruebaGenetica(dicc, porcentajes, tamsPob, gens, maxReglas, pElitismo, pCruce, repeticiones, outFile='res_20.txt')"
   ]
  },
  {
   "cell_type": "code",
   "execution_count": 3,
   "metadata": {},
   "outputs": [],
   "source": [
    "dicc = dicc = {'tic' : './DatasetEjemplo/tic-tac-toe.data'}\n",
    "porcentajes = [40]\n",
    "tamsPob = [100, 200]\n",
    "gens = [100, 300]\n",
    "maxReglas = [5, 10, 15, 20]\n",
    "pElitismo = [0.05, 0.1, 0.15]\n",
    "pCruce = [0.2, 0.4, 0.6, 0.85]\n",
    "repeticiones = 2\n",
    "pruebaGenetica(dicc, porcentajes, tamsPob, gens, maxReglas, pElitismo, pCruce, repeticiones, outFile='res_40.txt')"
   ]
  },
  {
   "cell_type": "code",
   "execution_count": 2,
   "metadata": {},
   "outputs": [],
   "source": [
    "dicc = dicc = {'tic' : './DatasetEjemplo/tic-tac-toe.data'}\n",
    "porcentajes = [80]\n",
    "tamsPob = [100, 200]\n",
    "gens = [100, 300]\n",
    "maxReglas = [5, 10, 15, 20]\n",
    "pElitismo = [0.05, 0.1, 0.15]\n",
    "pCruce = [0.2, 0.4, 0.6, 0.85]\n",
    "repeticiones = 2\n",
    "pruebaGenetica(dicc, porcentajes, tamsPob, gens, maxReglas, pElitismo, pCruce, repeticiones, outFile='res_80.txt')"
   ]
  },
  {
   "cell_type": "markdown",
   "metadata": {},
   "source": [
    "En documentos con las hojas de cálculo previamente enlazado, hemos volcado los mejores individuos sobre la hoja *Best results*.  \n",
    "En ésta pueden encontrarse distintas tablas, todas ellas resultado de hacer más o menos la misma query a las hojas que contienen los datos. \n",
    "\n",
    "La query particular puede consultarse clicando sobre la esquina superior izquiera de cada tabla de esa hoja, pero la idea es ordenar las filas de cada documento de menor a mayor error medio, luego de menor a mayor std y de menor a mayor fitness medio, y escoger los primeros resultados devueltos.  \n",
    "\n",
    "En el caso de los ejemplos 1 y 2, el algoritmo genético funcionaba muy bien y hasta cuando nos quedábamos con los 20 mejores resultados, todos ellos tenían error medio 0. Para tictactoe el algoritmo no se ajusta tan bien a los datos.  \n",
    "\n",
    "Por curiosidad, decidimos ejecutar las pruebas bajo distintos valores para distintos tamaños del conjunto de test, variando entre el 20 (más usado), el 40 o el 80 (a priori, sin mucha lógica) por ciento de la población.  \n",
    "En los ejemplos 1 y 2 la query busca el mejor individuo sin tener en cuenta este porcentaje, pero para tictactoe hemos extraido el mejor individuo devuelto después de usar cada porcentaje.\n",
    "\n",
    "En primer lugar analizaremos el mejor individuo de cada dataset, y después la semántica de estos individuos en un apartado distinto."
   ]
  },
  {
   "cell_type": "markdown",
   "metadata": {},
   "source": [
    "#### Ejemplo 1\n",
    "____\n",
    "El individuo en cuestión tiene un error medio de 0%, y una desviación típica de 0.  \n",
    "Fue ejecutado con una población de tamaño 100 y, aunque el número máximo de generaciones era 100, se paró en media con menos de 3 generaciones. Usamos el 15% como elitismo, y el 60% para cruce, y su fitness fue del 100%.   \n",
    "El número máximo de reglas que permitimos fue 10, y el porcentaje usado para test fue muy alto, del 80%.   \n",
    "Éste es el cromosoma correspondiente, formado por 5 reglas:   \n",
    "[[0, 1, 0, 0, 0, 1], [0, 1, 0, 1, 0, 1], [1, 0, 0, 1, 0, 1], [1, 0, 0, 0, 1, 0], [0, 0, 0, 0, 1, 0], 1.0]\n",
    "\n",
    "#### Ejemplo 2\n",
    "____\n",
    "De nuevo, el individuo tiene un error medio de 0%, y una desviación típica de 0.  \n",
    "El porcentaje de datos usados para test fue el 80%, y la población (a diferencia de en los demás casos) fue de tamaño 100. El máximo de generaciones permitido fue 300, y sorprendentemente en este caso el error cero se alcanzó imponiendo un número máximo de reglas de 1. El elitismo y el cruce varían un poco con respecto a lo anterior, en este caso se usó 0.1 y 0.85 respectivamente, el fitness medio de la población fue del 55% y el fitness del individuo ganador del 100%.\n",
    "Éste es el cromosoma correspondiente, formado por 1 reglas:   \n",
    "[[0, 1, 1, 1, 1], 1.0]\n",
    "\n",
    "Como en estos datos el error 0 se consigue en muchas ocasiones y el valor de los hiperparámetros varía mucho entre los distintos buenos individuos, no podemos decir claramente 'tal hiperparámetro debería tomar tal valor para obtener resultados óptimos'.\n",
    "\n",
    "#### Tictactoe\n",
    "___\n",
    "El individuo con menor error en estos datos tiene un 10% de error, con un fitness medio alto, del 86%. El fitness del individuo en cuestión fue del 89%   \n",
    "Fue ejecutado con un 20% de los datos usados para test, con una población de tamaño 200 y número máximo de generaciones 300. Se llegaron a las 270 de media. El elitismo era únicamente del 10%, y el cruce, bastante alto, del 40%.\n",
    "Este era el individuo:  \n",
    "[[1, 1, 0, 0, 1, 1, 1, 1, 0, 1, 1, 1, 1, 1, 1, 1, 1, 0, 1, 1, 1, 1, 1, 0, 1, 1, 1, 0, 1, 1, 1, 1, 1, 1, 1, 1, 0, 1, 1, 1, 1, 1, 0, 1, 1, 1, 1, 1, 0, 1, 1, 1, 1, 1, 1, 0, 1, 1, 0, 1, 1, 0, 0, 0, 0, 1, 1, 0, 1, 0, 0, 1, 0, 0, 1, 1, 0, 0, 1, 0, 1, 0, 0, 0, 1, 0, 1, 1, 0, 1, 1, 1, 0, 0, 1, 1, 1, 1, 0, 1, 1, 0, 0, 1, 0, 1, 0, 0, 1, 1, 0, 0, 0, 1, 1, 1, 1, 0, 0, 1, 1, 1, 1, 1, 0, 0, 0, 0, 0, 0, 0, 1, 1, 0, 1, 0, 0, 1, 1, 0, 0, 0, 1, 1, 0, 1, 1, 1, 1, 0, 1, 0, 1, 1, 1, 1, 1, 0, 1, 0, 1, 0, 0, 0, 0, 0, 0, 1, 1, 1, 1, 0, 1, 0, 1, 1, 1, 1, 1, 1, 0, 1, 0, 1, 1, 1, 1, 1, 1, 0, 1, 0, 1, 1, 1, 0, 0, 0, 0, 1, 1, 1, 0, 0, 0, 1, 0, 1, 0, 0, 0, 0, 0, 0, 0, 1, 0, 0, 0, 0, 0, 0, 1, 0, 1, 1, 1, 1, 1, 1, 0, 1, 0, 1, 1, 1, 1, 1, 1, 0, 1, 0, 1, 1, 1, 1, 1, 1, 0, 1, 0, 0, 0, 1, 0, 0, 1, 1, 1, 0, 0, 1, 0, 1, 1, 1, 1, 1, 0, 1, 0, 1, 0, 1, 1, 0, 0, 1, 1, 1, 1, 0, 0, 1, 1, 1, 0, 0, 1, 0, 0, 1, 0, 0, 1, 0, 0, 1, 1, 0, 0, 1, 0, 0, 0, 1, 1, 0, 1, 1, 1, 1, 0, 0, 1, 1, 0, 0, 0, 1, 1, 1, 1, 0, 1, 0, 0, 0, 0, 1, 1, 0, 0, 1, 0, 1, 1, 0, 0, 0, 1, 0, 0, 0, 1, 0, 0, 1, 0, 1, 0, 0, 0, 0, 0, 1, 1, 0, 0, 0, 0, 1, 0, 1, 1, 0, 0, 1, 1, 0, 1, 1, 0, 1, 0, 0, 1, 0, 0, 0, 1, 0, 0, 0, 1, 1, 1, 0, 0, 1, 1, 1, 0, 1, 1, 1, 1, 0, 1, 1, 0, 0, 1, 1, 1, 1, 0, 1, 0, 0, 1, 0, 1, 0, 0, 0, 0, 1, 0, 0, 1, 1, 0, 1, 1, 1, 1, 1, 1, 1, 1, 1, 1, 1, 0, 1, 1, 1, 1, 1, 1, 1, 1, 1, 1, 1, 0, 0, 1, 0, 1, 1, 0, 0, 1, 1, 1, 1, 0, 0, 0, 1, 1, 0, 0, 1, 1, 0, 0, 1, 0, 1, 1, 0, 0, 0, 1, 1, 0, 0, 1, 1, 0, 1, 0, 1, 0, 1, 1, 1, 1, 1, 1, 1, 0, 0, 1, 1, 1, 1, 1, 1, 0, 0, 0, 1, 0, 1, 1, 0, 0, 0, 1, 0, 1, 0, 0, 0, 1, 0, 1, 1, 1, 1, 0, 0, 1, 1, 0, 0, 1, 1], 0.8904823989569752]\n",
    "\n",
    "\n",
    "En este caso, sin importar el tamaño de los datos de test, los resultados parecen estar de acuerdo en que la salida óptima se obtenía con una población de 200 y 300 generaciones como máximo (y en casi todos los ejemplos se converge después de las 100 generaciones), así como un número alto de reglas (15-20 en la mayoría de los mejores individuos). El porcentaje ideal usado para cruce estaba en torno al 50%, y el elitismo bajo.  \n",
    "\n",
    "\n",
    "El error medio al usar un 80% como test asciende al 20% que, aunque más alto que usando un 20%, es un error bastante menor que el que esperábamos. A cambio, las pruebas con un 80% de test convergían antes que las del 20% o 40%, en torno a las 100 generaciones."
   ]
  },
  {
   "cell_type": "markdown",
   "metadata": {},
   "source": [
    "#### Semántica\n",
    "___\n",
    "¿En qué clasificaciones se traducen estos individuos? Para analizarlo, usamos la función decodificadora abajo implementada, que ejecutamos con nuestros tres mejores individuos."
   ]
  },
  {
   "cell_type": "code",
   "execution_count": 99,
   "metadata": {},
   "outputs": [],
   "source": [
    "import numpy as np\n",
    "import Datos as d\n",
    "\n",
    "def decode(indiv, dicc):\n",
    "    tamregla = sum(len(dic) for dic in dicc[:-1]) + 1\n",
    "    sliced = [indiv[i:i + tamregla] for i in range(0,len(indiv), tamregla)]\n",
    "    cuts = []\n",
    "    suma = 0\n",
    "    for dic in dicc[:-1]:\n",
    "        suma += len(dic)\n",
    "        cuts.append(suma)\n",
    "    sliced2 = []\n",
    "    for chunk in sliced:\n",
    "        sliced2.append([chunk[i : j] for i, j in zip([0] + \n",
    "              cuts, cuts + [None])])\n",
    "    inv_maps = [{v: k for k, v in dic.items()} for dic in dicc]\n",
    "    decod_indiv = []\n",
    "    for rule in sliced2:\n",
    "        decod_rule = []\n",
    "        length = len(rule)\n",
    "        for (attr, dic, j) in list(zip(rule,inv_maps, range(length))):\n",
    "            decod_attr = []\n",
    "            if j == length -1:\n",
    "                decod_attr.append(dic[attr[0]])\n",
    "            else:\n",
    "                for i in range(len(attr)):\n",
    "                    if attr[i] == 1:\n",
    "                        decod_attr.append(dic[i])\n",
    "            decod_rule.append(decod_attr)\n",
    "        decod_indiv.append(decod_rule)\n",
    "    return decod_indiv\n",
    "\n",
    "\n",
    "dics = []\n",
    "dicc = {'ejemplo1' : './DatasetEjemplo/ejemplo1.data', 'ejemplo2' : './DatasetEjemplo/ejemplo2.data','tic' : './DatasetEjemplo/tic-tac-toe.data'}\n",
    "for fileName in dicc:\n",
    "    dataset = d.Datos(dicc[fileName])\n",
    "    dics.append(dataset.diccionarios)\n",
    "indiv1 = [0, 1, 0, 0, 0, 1, 0, 1, 0, 1, 0, 1, 1, 0, 0, 1, 0, 1, 1, 0, 0, 0, 1, 0, 0, 0, 0, 0, 1, 0]\n",
    "indiv2 = [0, 1, 1, 1, 1]\n",
    "indiv3 = [1, 1, 0, 0, 1, 1, 1, 1, 0, 1, 1, 1, 1, 1, 1, 1, 1, 0, 1, 1, 1, 1, 1, 0, 1, 1, 1, 0, 1, 1, 1, 1, 1, 1, 1, 1, 0, 1, 1, 1, 1, 1, 0, 1, 1, 1, 1, 1, 0, 1, 1, 1, 1, 1, 1, 0, 1, 1, 0, 1, 1, 0, 0, 0, 0, 1, 1, 0, 1, 0, 0, 1, 0, 0, 1, 1, 0, 0, 1, 0, 1, 0, 0, 0, 1, 0, 1, 1, 0, 1, 1, 1, 0, 0, 1, 1, 1, 1, 0, 1, 1, 0, 0, 1, 0, 1, 0, 0, 1, 1, 0, 0, 0, 1, 1, 1, 1, 0, 0, 1, 1, 1, 1, 1, 0, 0, 0, 0, 0, 0, 0, 1, 1, 0, 1, 0, 0, 1, 1, 0, 0, 0, 1, 1, 0, 1, 1, 1, 1, 0, 1, 0, 1, 1, 1, 1, 1, 0, 1, 0, 1, 0, 0, 0, 0, 0, 0, 1, 1, 1, 1, 0, 1, 0, 1, 1, 1, 1, 1, 1, 0, 1, 0, 1, 1, 1, 1, 1, 1, 0, 1, 0, 1, 1, 1, 0, 0, 0, 0, 1, 1, 1, 0, 0, 0, 1, 0, 1, 0, 0, 0, 0, 0, 0, 0, 1, 0, 0, 0, 0, 0, 0, 1, 0, 1, 1, 1, 1, 1, 1, 0, 1, 0, 1, 1, 1, 1, 1, 1, 0, 1, 0, 1, 1, 1, 1, 1, 1, 0, 1, 0, 0, 0, 1, 0, 0, 1, 1, 1, 0, 0, 1, 0, 1, 1, 1, 1, 1, 0, 1, 0, 1, 0, 1, 1, 0, 0, 1, 1, 1, 1, 0, 0, 1, 1, 1, 0, 0, 1, 0, 0, 1, 0, 0, 1, 0, 0, 1, 1, 0, 0, 1, 0, 0, 0, 1, 1, 0, 1, 1, 1, 1, 0, 0, 1, 1, 0, 0, 0, 1, 1, 1, 1, 0, 1, 0, 0, 0, 0, 1, 1, 0, 0, 1, 0, 1, 1, 0, 0, 0, 1, 0, 0, 0, 1, 0, 0, 1, 0, 1, 0, 0, 0, 0, 0, 1, 1, 0, 0, 0, 0, 1, 0, 1, 1, 0, 0, 1, 1, 0, 1, 1, 0, 1, 0, 0, 1, 0, 0, 0, 1, 0, 0, 0, 1, 1, 1, 0, 0, 1, 1, 1, 0, 1, 1, 1, 1, 0, 1, 1, 0, 0, 1, 1, 1, 1, 0, 1, 0, 0, 1, 0, 1, 0, 0, 0, 0, 1, 0, 0, 1, 1, 0, 1, 1, 1, 1, 1, 1, 1, 1, 1, 1, 1, 0, 1, 1, 1, 1, 1, 1, 1, 1, 1, 1, 1, 0, 0, 1, 0, 1, 1, 0, 0, 1, 1, 1, 1, 0, 0, 0, 1, 1, 0, 0, 1, 1, 0, 0, 1, 0, 1, 1, 0, 0, 0, 1, 1, 0, 0, 1, 1, 0, 1, 0, 1, 0, 1, 1, 1, 1, 1, 1, 1, 0, 0, 1, 1, 1, 1, 1, 1, 0, 0, 0, 1, 0, 1, 1, 0, 0, 0, 1, 0, 1, 0, 0, 0, 1, 0, 1, 1, 1, 1, 0, 0, 1, 1, 0, 0, 1, 1\n",
    "]\n",
    "indivs = [indiv1, indiv2, indiv3]\n",
    " \n",
    "decod_indivs = []\n",
    "for (dicc, indiv) in list(zip(dics, indivs)):\n",
    "    dec = decode(indiv, dicc)\n",
    "    decod_indivs.append(dec)"
   ]
  },
  {
   "cell_type": "markdown",
   "metadata": {},
   "source": [
    "**Ejemplo 1**"
   ]
  },
  {
   "cell_type": "code",
   "execution_count": 102,
   "metadata": {},
   "outputs": [
    {
     "name": "stdout",
     "output_type": "stream",
     "text": [
      "6\n",
      "[[['-'], [], ['+']], [['+'], ['+'], ['-']], [['-'], ['+'], ['+']], [['+'], ['+', '-'], ['+']], [[], ['+'], ['+']], [[], ['-'], ['+']]]\n"
     ]
    }
   ],
   "source": [
    "print(len(decod_indivs[0]))\n",
    "print(decod_indivs[0])"
   ]
  },
  {
   "cell_type": "markdown",
   "metadata": {},
   "source": [
    "Este cromosoma está formado por 6 reglas, que clasifican de la siguiente manera:\n",
    "1. La regla 1 reconoce como + a los individuos con un - en el primer atributo, aunque no saltará para ningún valor del segundo atributo.\n",
    "2. La regla 2 reconoce como - a los individuos como un + en ambos atributos\n",
    "3. La regla 3 reconoce como + a los individuos con un - en el primer atributo y un + en el segundo\n",
    "4. El atributo 4 reconoce como + a los individuos con un + en el primer atributo y un + o un - en el segubdo\n",
    "5. La regla 5 no saltá ante el primer atributo, pero reconoce como + a aquellos individuos con segundo atributo +\n",
    "6. Igual que la quinta pero con un - en el segundo atributo"
   ]
  },
  {
   "cell_type": "markdown",
   "metadata": {},
   "source": [
    "**Ejemplo 2**"
   ]
  },
  {
   "cell_type": "code",
   "execution_count": 104,
   "metadata": {},
   "outputs": [
    {
     "name": "stdout",
     "output_type": "stream",
     "text": [
      "1\n",
      "[[['-'], ['+', '-'], ['-']]]\n"
     ]
    }
   ],
   "source": [
    "print(len(decod_indivs[1]))\n",
    "print(decod_indivs[1])"
   ]
  },
  {
   "cell_type": "markdown",
   "metadata": {},
   "source": [
    "Este cromosoma está formado por 1 reglas, que clasifican de la siguiente manera:\n",
    "Si un individuo tiene un - en el primer atributo, y un + o un - en el segundo, lo reconoce como -"
   ]
  },
  {
   "cell_type": "markdown",
   "metadata": {},
   "source": [
    "**Ejemplo 3**"
   ]
  },
  {
   "cell_type": "code",
   "execution_count": 106,
   "metadata": {},
   "outputs": [
    {
     "name": "stdout",
     "output_type": "stream",
     "text": [
      "19\n",
      "[[['b', 'o'], ['o', 'x'], ['b', 'o'], ['b', 'o', 'x'], ['b', 'o', 'x'], ['b', 'o'], ['b', 'o', 'x'], ['b', 'o'], ['b', 'o', 'x'], ['negative']], [['b', 'o', 'x'], ['b', 'o', 'x'], ['b', 'o'], ['b', 'o', 'x'], ['b', 'o'], ['b', 'o', 'x'], ['b', 'o'], ['b', 'o', 'x'], ['b', 'o', 'x'], ['negative']], [['b', 'o'], ['b', 'o'], [], ['b', 'o'], ['b'], ['b'], ['b', 'o'], ['o'], ['b'], ['negative']], [['b', 'x'], ['b', 'x'], ['b', 'o'], ['o', 'x'], ['b', 'o'], ['b', 'o'], ['o'], ['b'], ['b', 'o'], ['negative']], [['o', 'x'], ['b', 'o'], ['o', 'x'], ['b', 'o', 'x'], [], [], ['o', 'x'], ['o'], ['o', 'x'], ['negative']], [['x'], ['b', 'x'], ['b', 'o', 'x'], ['o'], ['b', 'o', 'x'], ['b', 'o'], ['b', 'x'], [], [], ['positive']], [['b', 'o', 'x'], ['o'], ['b', 'o', 'x'], ['b', 'o', 'x'], ['o'], ['b', 'o', 'x'], ['b', 'o', 'x'], ['o'], ['b', 'o', 'x'], ['negative']], [[], ['b', 'o', 'x'], [], ['b', 'x'], [], [], ['o'], [], ['x'], ['negative']], [['b', 'o', 'x'], ['b', 'o', 'x'], ['o'], ['b', 'o', 'x'], ['b', 'o', 'x'], ['o'], ['b', 'o', 'x'], ['b', 'o', 'x'], ['o'], ['negative']], [['o'], ['o', 'x'], ['b'], ['b', 'x'], ['b', 'o', 'x'], ['b', 'x'], ['o'], ['b', 'o'], ['o', 'x'], ['positive']], [['b'], ['b', 'o', 'x'], ['x'], ['x'], ['x'], ['x'], ['b'], ['b'], ['o', 'x'], ['negative']], [['b', 'o', 'x'], ['b'], ['b', 'o'], ['x'], ['b', 'o', 'x'], ['o'], [], ['b', 'o'], ['o'], ['positive']], [['b'], ['o'], ['x'], ['x'], ['o'], [], ['o', 'x'], [], ['o'], ['positive']], [['b'], ['b', 'o'], ['b', 'o'], ['b'], ['b'], ['o'], ['x'], ['b', 'o'], ['o', 'x'], ['positive']], [['o', 'x'], ['b', 'o'], ['b', 'o'], ['o', 'x'], ['b', 'o'], ['b'], ['b', 'x'], [], ['o'], ['negative']], [['b', 'o'], ['b', 'o', 'x'], ['b', 'o', 'x'], ['b', 'o', 'x'], ['b', 'o'], ['b', 'o', 'x'], ['b', 'o', 'x'], ['b', 'o', 'x'], ['b', 'o'], ['negative']], [['b', 'x'], ['b'], ['b', 'o', 'x'], ['b'], ['o', 'x'], ['x'], ['b'], ['b', 'x'], ['b'], ['negative']], [['b', 'o'], ['o', 'x'], ['o'], ['b', 'x'], ['b', 'o', 'x'], ['b', 'o', 'x'], ['x'], ['b', 'o', 'x'], ['b', 'o'], ['negative']], [['o'], ['b', 'o'], ['x'], ['o'], ['x'], ['o', 'x'], ['b', 'o'], ['o', 'x'], ['x'], ['positive']]]\n"
     ]
    }
   ],
   "source": [
    "print(len(decod_indivs[2]))\n",
    "print(decod_indivs[2])"
   ]
  },
  {
   "cell_type": "markdown",
   "metadata": {},
   "source": [
    "Este cromosoma está formado por 19 reglas. Como son demasiadas, analizaremos sólo la primera, pero las defdmás se interpretan de forma análoga:\n",
    "1. La primera regla reconoce como negative a aquellos individuos donde\n",
    "    * El primer atributo valga b u o\n",
    "    * El segundo valga o o x\n",
    "    * El tercero valga b u o\n",
    "    * El cuarto valga o, b o x\n",
    "    * El quinto valga o, b o x\n",
    "    * El sexto valga b u o\n",
    "    * El septimo o, b o x\n",
    "    * El octavo valo b u o\n",
    "    * El noveno vale o, b o x"
   ]
  },
  {
   "cell_type": "markdown",
   "metadata": {},
   "source": [
    "### Apartado 3: Analisis de los resultados\n",
    "\n"
   ]
  },
  {
   "cell_type": "markdown",
   "metadata": {},
   "source": [
    "### Apartado 3: Analisis de los hiperparámetros\n",
    "\n",
    "Ya que teníamos todos los resultados importados en una hoja de cálculo, hemos decidido usarla como herramienta para visualizar la importancia de cada hiperparámetro del algoritmo.  Ya que los resultados en `ejemplo1` y `ejemplo2` eran tan perfectos, optamos por hacer este análisis sobre `tictactoe`, con la idea de obtener conclusiones un poco más realistas.\n",
    "   \n",
    "Hemos ido representando el error medio con respecto a cada uno de los hiperparámetros, para poder decidir así cuáles afectaban a la precisión de la predicción, y cuáles no.  \n",
    "\n",
    "En la siguiente imagen se refleja cómo evolucionaba el error a medida que crecía el número medio de generaciones a las que se llegaba. Como era de esperar, el error baja a medida que las generaciones aumentan. Aunque esto nos inclinaría a pensar que debemos marcar un número de generaciones alto, el gráfico no refleja, que el tiempo de entrenamiento crece notablemente a medida que sube el número de generaciones.\n",
    "![NGeneraciones vs error medio](https://github.com/luciaasen/FAA/blob/master/p3/images/Error%20medio%20frente%20a%20NGeneraciones%20media.png?raw=true)\n",
    "Los demás parámetros no han parecido ser cruciales en el error del algoritmo. Vemos que para cualquier tamaño de población, cualquier porcentaje de elitismo, cualquier porcentaje de mutacion y sea cual sea el número de reglas, el error medio se mantiene de manera invariante entre 0.1 y 0.3\n",
    "\n",
    "Sólo para el tamaño de la población, el error parece ser ligeramente menor para el tamaño grande. \n",
    "![Cruce vs error medio](https://github.com/luciaasen/FAA/blob/master/p3/images/Cruce%20frente%20a%20Error%20medio.png?raw=true)\n",
    "![Elitismo vs error medio](https://github.com/luciaasen/FAA/blob/master/p3/images/Elitismo%20frente%20a%20Error%20medio.png?raw=true)\n",
    "![Max reglas vs error medio](https://github.com/luciaasen/FAA/blob/master/p3/images/Num%20max%20de%20reglas%20frente%20a%20Error%20medio.png?raw=true)\n",
    "![Tam poblacion vs error medio](https://github.com/luciaasen/FAA/blob/master/p3/images/_Tam%20poblaci%C3%B3n%20frente%20Error%20medio.png?raw=true)\n",
    "\n",
    "\n",
    "### Apartado 4: Análisis de entrenamiento\n",
    "#### Evolución del fitness del mejor individuo durante la fase de entrenamiento\n",
    "\n",
    "Para este apartado hemos implementado una función que realiza un entrenamiento guardando a lo largo del mismo, los datos acerca del mejor fitness y el medio, datos que son graficados y analizados un par de celdas más abajo."
   ]
  },
  {
   "cell_type": "code",
   "execution_count": 21,
   "metadata": {},
   "outputs": [],
   "source": [
    "def graphTraining(fileName, prcnt, tam, epoca, pc, pe, reg):\n",
    "    dataset = d.Datos(fileName)\n",
    "    estrategia = ep.ValidacionSimple(prcnt)\n",
    "    listaParticiones = estrategia.creaParticiones(dataset.datos, 1)\n",
    "    trainData = dataset.extraeDatos(estrategia.listaParticiones[0].indicesTrain)\n",
    "    gen = cl.ClasificadorGenetico(tamPoblacion=tam, nEpocas=epoca, pCruce=pc, pElit=pe, maxReglas=reg, usePrior=True)\n",
    "    gen.entrenamiento(trainData, dataset.nominalAtributos, dataset.diccionarios)\n",
    "    return gen.topFitnessHistory, gen.avgFitnessHistory\n",
    "\n",
    "    "
   ]
  },
  {
   "cell_type": "code",
   "execution_count": 24,
   "metadata": {},
   "outputs": [
    {
     "name": "stdout",
     "output_type": "stream",
     "text": [
      "Gen  1 / 100 - BEST FITNESS:  0.7083333333333334  AVG FITNESS:  0.695208333333333\n",
      "Gen  2 / 100 - BEST FITNESS:  0.7083333333333334  AVG FITNESS:  0.6948437499999995\n",
      "Gen  3 / 100 - BEST FITNESS:  0.7083333333333334  AVG FITNESS:  0.6964583333333327\n",
      "Gen  4 / 100 - BEST FITNESS:  0.71875  AVG FITNESS:  0.6974999999999997\n",
      "Gen  5 / 100 - BEST FITNESS:  0.71875  AVG FITNESS:  0.6995312499999996\n",
      "Gen  6 / 100 - BEST FITNESS:  0.71875  AVG FITNESS:  0.7003645833333332\n",
      "Gen  7 / 100 - BEST FITNESS:  0.71875  AVG FITNESS:  0.6999479166666663\n",
      "Gen  8 / 100 - BEST FITNESS:  0.71875  AVG FITNESS:  0.7011458333333332\n",
      "Gen  9 / 100 - BEST FITNESS:  0.7239583333333334  AVG FITNESS:  0.7018229166666664\n",
      "Gen  10 / 100 - BEST FITNESS:  0.7239583333333334  AVG FITNESS:  0.7034375\n",
      "Gen  11 / 100 - BEST FITNESS:  0.7239583333333334  AVG FITNESS:  0.7057812500000002\n",
      "Gen  12 / 100 - BEST FITNESS:  0.7239583333333334  AVG FITNESS:  0.7060416666666667\n",
      "Gen  13 / 100 - BEST FITNESS:  0.7239583333333334  AVG FITNESS:  0.7059375\n",
      "Gen  14 / 100 - BEST FITNESS:  0.7239583333333334  AVG FITNESS:  0.7064583333333329\n",
      "Gen  15 / 100 - BEST FITNESS:  0.7291666666666666  AVG FITNESS:  0.7078645833333332\n",
      "Gen  16 / 100 - BEST FITNESS:  0.7291666666666666  AVG FITNESS:  0.7081250000000001\n",
      "Gen  17 / 100 - BEST FITNESS:  0.7291666666666666  AVG FITNESS:  0.7077604166666663\n",
      "Gen  18 / 100 - BEST FITNESS:  0.7291666666666666  AVG FITNESS:  0.7089583333333331\n",
      "Gen  19 / 100 - BEST FITNESS:  0.7291666666666666  AVG FITNESS:  0.7098958333333334\n",
      "Gen  20 / 100 - BEST FITNESS:  0.7291666666666666  AVG FITNESS:  0.7103645833333332\n",
      "Gen  21 / 100 - BEST FITNESS:  0.7395833333333334  AVG FITNESS:  0.7116666666666667\n",
      "Gen  22 / 100 - BEST FITNESS:  0.7552083333333334  AVG FITNESS:  0.7147395833333331\n",
      "Gen  23 / 100 - BEST FITNESS:  0.7552083333333334  AVG FITNESS:  0.7143229166666667\n",
      "Gen  24 / 100 - BEST FITNESS:  0.7604166666666666  AVG FITNESS:  0.7161458333333335\n",
      "Gen  25 / 100 - BEST FITNESS:  0.7604166666666666  AVG FITNESS:  0.7155729166666664\n",
      "Gen  26 / 100 - BEST FITNESS:  0.7604166666666666  AVG FITNESS:  0.7155208333333334\n",
      "Gen  27 / 100 - BEST FITNESS:  0.7604166666666666  AVG FITNESS:  0.7182812499999999\n",
      "Gen  28 / 100 - BEST FITNESS:  0.7604166666666666  AVG FITNESS:  0.7205729166666665\n",
      "Gen  29 / 100 - BEST FITNESS:  0.7604166666666666  AVG FITNESS:  0.7185937500000003\n",
      "Gen  30 / 100 - BEST FITNESS:  0.7708333333333334  AVG FITNESS:  0.7211979166666665\n",
      "Gen  31 / 100 - BEST FITNESS:  0.7708333333333334  AVG FITNESS:  0.7230729166666667\n",
      "Gen  32 / 100 - BEST FITNESS:  0.7708333333333334  AVG FITNESS:  0.7274479166666665\n",
      "Gen  33 / 100 - BEST FITNESS:  0.7708333333333334  AVG FITNESS:  0.7278125000000003\n",
      "Gen  34 / 100 - BEST FITNESS:  0.7708333333333334  AVG FITNESS:  0.728125\n",
      "Gen  35 / 100 - BEST FITNESS:  0.7708333333333334  AVG FITNESS:  0.73234375\n",
      "Gen  36 / 100 - BEST FITNESS:  0.7864583333333334  AVG FITNESS:  0.7363541666666665\n",
      "Gen  37 / 100 - BEST FITNESS:  0.7864583333333334  AVG FITNESS:  0.7396874999999998\n",
      "Gen  38 / 100 - BEST FITNESS:  0.7864583333333334  AVG FITNESS:  0.7385416666666668\n",
      "Gen  39 / 100 - BEST FITNESS:  0.7864583333333334  AVG FITNESS:  0.7388541666666667\n",
      "Gen  40 / 100 - BEST FITNESS:  0.7864583333333334  AVG FITNESS:  0.7431250000000001\n",
      "Gen  41 / 100 - BEST FITNESS:  0.7916666666666666  AVG FITNESS:  0.7396354166666669\n",
      "Gen  42 / 100 - BEST FITNESS:  0.7916666666666666  AVG FITNESS:  0.7376562500000002\n",
      "Gen  43 / 100 - BEST FITNESS:  0.7916666666666666  AVG FITNESS:  0.7434374999999998\n",
      "Gen  44 / 100 - BEST FITNESS:  0.7916666666666666  AVG FITNESS:  0.7433333333333332\n",
      "Gen  45 / 100 - BEST FITNESS:  0.7916666666666666  AVG FITNESS:  0.7476041666666664\n",
      "Gen  46 / 100 - BEST FITNESS:  0.7916666666666666  AVG FITNESS:  0.7504166666666667\n",
      "Gen  47 / 100 - BEST FITNESS:  0.7916666666666666  AVG FITNESS:  0.7506250000000004\n",
      "Gen  48 / 100 - BEST FITNESS:  0.7916666666666666  AVG FITNESS:  0.7495312500000001\n",
      "Gen  49 / 100 - BEST FITNESS:  0.7916666666666666  AVG FITNESS:  0.7510416666666666\n",
      "Gen  50 / 100 - BEST FITNESS:  0.7916666666666666  AVG FITNESS:  0.7557291666666669\n",
      "Gen  51 / 100 - BEST FITNESS:  0.7916666666666666  AVG FITNESS:  0.7620312500000002\n",
      "Gen  52 / 100 - BEST FITNESS:  0.7916666666666666  AVG FITNESS:  0.7667187500000001\n",
      "Gen  53 / 100 - BEST FITNESS:  0.796875  AVG FITNESS:  0.7623958333333333\n",
      "Stop -> Algorithm fitness converged\n"
     ]
    }
   ],
   "source": [
    "filename = './DatasetEjemplo/tic-tac-toe.data'\n",
    "# prcnt = 80\n",
    "# tamsPob = [100, 200]\n",
    "# gens = [100, 300]\n",
    "# maxReglas = 15\n",
    "# pElitismo = 0.05\n",
    "# pCruce = 0.85\n",
    "\n",
    "best, avg = graphTraining(filename, prcnt=80, tam=100, epoca=100, pc=0.85, pe=0.05, reg=15)\n",
    "\n",
    "\n"
   ]
  },
  {
   "cell_type": "code",
   "execution_count": 25,
   "metadata": {},
   "outputs": [
    {
     "data": {
      "image/png": "[encoded data removed]",
      "text/plain": [
       "<Figure size 432x288 with 1 Axes>"
      ]
     },
     "metadata": {
      "needs_background": "light"
     },
     "output_type": "display_data"
    }
   ],
   "source": [
    "import matplotlib.pyplot as plt\n",
    "plt.plot(range(1,len(best) + 1), best)\n",
    "plt.plot(range(1,len(avg) + 1), avg)\n",
    "plt.xlabel('Generation')\n",
    "plt.ylabel('Fitness')\n",
    "plt.show()\n"
   ]
  },
  {
   "cell_type": "markdown",
   "metadata": {},
   "source": [
    "La línea superior corresponde, lógicamente, al mejor fitness. A medida que el número de generaciones aumenta, ambos valores crecen. Tiene sentido que crezcan, ya que en teoría la precisión del clasificador va mejorando generación a generación. Por otro lado, no es tan obvio pero parece cumplirse, que el fitness medio y el mejor crecen de manera más o menos parecida con el tiempo"
   ]
  },
  {
   "cell_type": "code",
   "execution_count": null,
   "metadata": {},
   "outputs": [],
   "source": []
  }
 ],
 "metadata": {
  "kernelspec": {
   "display_name": "Python 3",
   "language": "python",
   "name": "python3"
  },
  "language_info": {
   "codemirror_mode": {
    "name": "ipython",
    "version": 3
   },
   "file_extension": ".py",
   "mimetype": "text/x-python",
   "name": "python",
   "nbconvert_exporter": "python",
   "pygments_lexer": "ipython3",
   "version": "3.6.8"
  }
 },
 "nbformat": 4,
 "nbformat_minor": 2
}
