{
 "cells": [
  {
   "cell_type": "code",
   "execution_count": 94,
   "metadata": {},
   "outputs": [],
   "source": [
    "from plantillasArquitectura import Datos as d\n",
    "from scipy.stats import norm\n",
    "\n",
    "import numpy as np"
   ]
  },
  {
   "cell_type": "code",
   "execution_count": 95,
   "metadata": {},
   "outputs": [],
   "source": [
    "lenses = d.Datos('./plantillasArquitectura/datos/conjunto_datos_lentillas.txt')\n"
   ]
  },
  {
   "cell_type": "code",
   "execution_count": 98,
   "metadata": {},
   "outputs": [
    {
     "name": "stdout",
     "output_type": "stream",
     "text": [
      "['Age', 'Spectacle', 'Astigmatic', 'Tear', 'Class']\n",
      "['Nominal', 'Nominal', 'Nominal', 'Nominal', 'Nominal']\n",
      "[True, True, True, True, True]\n",
      "[{'1': 0, '2': 1, '3': 2}, {'1': 0, '2': 1}, {'1': 0, '2': 1}, {'1': 0, '2': 1}, {'1': 0, '2': 1, '3': 2}]\n",
      "[[0. 0. 0. 0. 2.]\n",
      " [0. 0. 0. 1. 1.]\n",
      " [0. 0. 1. 0. 2.]\n",
      " [0. 0. 1. 1. 0.]\n",
      " [0. 1. 0. 0. 2.]\n",
      " [0. 1. 0. 1. 1.]\n",
      " [0. 1. 1. 0. 2.]\n",
      " [0. 1. 1. 1. 0.]\n",
      " [1. 0. 0. 0. 2.]\n",
      " [1. 0. 0. 1. 1.]\n",
      " [1. 0. 1. 0. 2.]\n",
      " [1. 0. 1. 1. 0.]\n",
      " [1. 1. 0. 0. 2.]\n",
      " [1. 1. 0. 1. 1.]\n",
      " [1. 1. 1. 0. 2.]\n",
      " [1. 1. 1. 1. 2.]\n",
      " [2. 0. 0. 0. 2.]\n",
      " [2. 0. 0. 1. 2.]\n",
      " [2. 0. 1. 0. 2.]\n",
      " [2. 0. 1. 1. 0.]\n",
      " [2. 1. 0. 0. 2.]\n",
      " [2. 1. 0. 1. 1.]\n",
      " [2. 1. 1. 0. 2.]\n",
      " [2. 1. 1. 1. 2.]]\n"
     ]
    },
    {
     "data": {
      "text/plain": [
       "[True, True, True, True, True]"
      ]
     },
     "execution_count": 98,
     "metadata": {},
     "output_type": "execute_result"
    }
   ],
   "source": [
    "lenses.datos\n",
    "datosTrain=lenses.datos\n",
    "atributosDiscretos = lenses.nominalAtributos\n",
    "print(lenses.nombreAtributos)\n",
    "print(lenses.tipoAtributos)\n",
    "print(lenses.nominalAtributos)\n",
    "print(lenses.diccionarios)\n",
    "print(lenses.datos)"
   ]
  },
  {
   "cell_type": "code",
   "execution_count": 112,
   "metadata": {},
   "outputs": [
    {
     "data": {
      "text/plain": [
       "(array(nan), array(nan))"
      ]
     },
     "execution_count": 112,
     "metadata": {},
     "output_type": "execute_result"
    }
   ],
   "source": [
    "prioris = dict()\n",
    "nDatos = len(datosTrain)\n",
    "classIdx = np.size(datosTrain,1)-1 \n",
    "for dato in datosTrain:\n",
    "    clase = dato[classIdx]\n",
    "    if clase not in prioris.keys():\n",
    "        prioris[clase] = 1/nDatos\n",
    "    else :\n",
    "        prioris[clase] += 1/nDatos\n",
    "classes = list((datosTrain[:, -1]))\n",
    "third = list(set(datosTrain[:, 2]))\n",
    "\n",
    "filteredColumn = np.mean(datosTrain[datosTrain[:,-1]==classes[0]][:,3])\n",
    "mean = np.mean(filteredColumn)\n",
    "var = np.var(filteredColumn)\n",
    "gen = norm(mean, var)\n",
    "                \n",
    "np.sum((datosTrain[:,2]==third[0] ) & (datosTrain[:,-1]==classes[0]))\n",
    "norm.stats(filteredColumn)"
   ]
  },
  {
   "cell_type": "code",
   "execution_count": null,
   "metadata": {},
   "outputs": [],
   "source": []
  },
  {
   "cell_type": "code",
   "execution_count": 107,
   "metadata": {},
   "outputs": [],
   "source": [
    "from scipy.stats import norm\n",
    "\n",
    "# There are len - 1 attributes, since last element in atributosDiscretos, the class, does not correspond to an attribute\n",
    "nAtributos = len(atributosDiscretos)-1\n",
    "# We extract a set with all classes in the data\n",
    "classes = set(datosTrain[:, -1])\n",
    "# We create a list with dictionaries of dictionaries containing the NB tables\n",
    "# Each element of the list corresponds to an attribute, in particular to the NB table correspondent to that attribute\n",
    "attrTables = []\n",
    "\n",
    "for i in range(nAtributos-1):\n",
    "        # For each attribute, a dictionary with all classes as values\n",
    "        classesTable = dict()\n",
    "            \n",
    "        for clase in classes:\n",
    "            # We extract a set with all attribute values for the i-th attribute\n",
    "            attrValues = set(datosTrain[:,i])\n",
    "            # If i-th attribute discrete:\n",
    "            # For each class, a dictionary with the i-th attribute values as keys\n",
    "            classesTable[clase] = dict()            \n",
    "            if(atributosDiscretos[i]):\n",
    "                for value in attrValues:\n",
    "                    # We count the number of elements of class clase out of the elements \n",
    "                    # where the i-th attribute has value value\n",
    "                    count = np.sum((datosTrain[:,i]==value ) & (datosTrain[:,-1]==clase))\n",
    "                    #if count == 0: \n",
    "                    #    AQUI SE HARIA LAPLACE: activar una flag que, una vez recorridos todos los values, sume uno a todos los dics\n",
    "                    #    Ineficiente a tope pero al menos no es larguisimo, nValuesxNclasses no deberia ser un valor muy grande    \n",
    "                    classesTable[clase][value] = count\n",
    "\n",
    "            # If i-th attribute continuous:\n",
    "            else:\n",
    "                # We create an array with the i-th attribute values of data where class == clase\n",
    "                filteredColumn = datosTrain[datosTrain[:,-1]==clase][:, i]\n",
    "                # We extract mean and variance of the i-th column\n",
    "                mean = np.mean(filteredColumn)\n",
    "                var = np.var(filteredColumn)\n",
    "                classesTable[clase] = norm(mean, var)\n",
    "                \n",
    "        attrTables.append(classesTable)   \n",
    "        "
   ]
  },
  {
   "cell_type": "code",
   "execution_count": null,
   "metadata": {},
   "outputs": [],
   "source": []
  }
 ],
 "metadata": {
  "kernelspec": {
   "display_name": "Python 3",
   "language": "python",
   "name": "python3"
  },
  "language_info": {
   "codemirror_mode": {
    "name": "ipython",
    "version": 3
   },
   "file_extension": ".py",
   "mimetype": "text/x-python",
   "name": "python",
   "nbconvert_exporter": "python",
   "pygments_lexer": "ipython3",
   "version": "3.6.8"
  }
 },
 "nbformat": 4,
 "nbformat_minor": 2
}
