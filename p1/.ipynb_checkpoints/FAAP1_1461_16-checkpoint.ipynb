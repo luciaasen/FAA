{
 "cells": [
  {
   "cell_type": "markdown",
   "metadata": {},
   "source": [
    "Practica 1 FAA\n",
    "======\n"
   ]
  },
  {
   "cell_type": "markdown",
   "metadata": {},
   "source": [
    "#### Lucía Asencio y Alfonso Carvajal\n",
    "#### Grupo 1461, pareja 16"
   ]
  },
  {
   "cell_type": "markdown",
   "metadata": {},
   "source": [
    "\n",
    "## Particionado\n",
    "----------------\n",
    "\n",
    "Para esta entrega hemos implementado dos estrategias de particionado, \n",
    "* Valicación __simple,__ y\n",
    "* Validación __cruzada__\n"
   ]
  },
  {
   "cell_type": "markdown",
   "metadata": {},
   "source": [
    "### Validación simple\n",
    "\n",
    "En el primer caso, el usuario escoge qué porcentaje de los datos va a ser usado para probar el modelo (el conjunto de test) y los datos restantes serán usados para entrenar el modelo. Esta validación conlleva por tanto una única partición de los datos.\n",
    "\n",
    "Para una consulta rápida, adjuntamos el código que crea las particiones en validación simple."
   ]
  },
  {
   "cell_type": "markdown",
   "metadata": {},
   "source": [
    "``` python\n",
    "    #Crea particiones segun el metodo tradicional de division de los datos segun el porcentaje deseado.\n",
    "    # Devuelve una lista de particiones (clase Particion)\n",
    "    def creaParticiones(self,datos,seed=None):\n",
    "        # we assign a new value to seed only if it is None already\n",
    "        if seed == None:\n",
    "            random.seed(seed)\n",
    "\n",
    "        # number of rows of the datos Matrix (number of inidvidual data)\n",
    "        totalRows = len(datos)\n",
    "        # Assuming porcentajeDeseado refers to the percentage of the data we want to save for testing\n",
    "        # we obtain the number of rows (data) to use for testing\n",
    "        testRows = int( (self.porcentajeDeseado * totalRows)/100 )\n",
    "        rows = list(range(0, totalRows))\n",
    "        random.shuffle(rows)\n",
    "        particionSimple = Particion()\n",
    "        # array size of totalRows - testRows\n",
    "        particionSimple.indicesTrain = rows[testRows :]\n",
    "        # array size of testRows\n",
    "        particionSimple.indicesTest = rows[: testRows]\n",
    "\n",
    "        self.listaParticiones.append(particionSimple)\n",
    "\n",
    "\n",
    "        return self.listaParticiones```"
   ]
  },
  {
   "cell_type": "markdown",
   "metadata": {},
   "source": [
    "\n",
    "#### Lenses\n",
    "Comencemos viendo cómo la validación simple particiona los datos de las lentillas proporcionados para la práctica. A través del parámetro `porcentaje`, configuramos el porcentaje de datos que van destinados al conjunto de prueba. Consultamos en el objeto estrategia el número y estructura de la/s particiones creadas."
   ]
  },
  {
   "cell_type": "code",
   "execution_count": 1,
   "metadata": {},
   "outputs": [
    {
     "name": "stdout",
     "output_type": "stream",
     "text": [
      "Tal y como esperamos, la lista de particiones de la estrategia tiene longitud  1\n",
      "\n",
      "Hay  18 índices (más o menos el  75 % de  24 , que es el número de datos) destinados al entrenamiento del modelo, y son:\n",
      "[17, 8, 9, 22, 16, 14, 7, 13, 18, 2, 21, 19, 4, 15, 11, 12, 5, 23]\n",
      "\n",
      "Los  6  índices restantes forman el conjunto de test: \n",
      "[10, 1, 20, 6, 3, 0]\n"
     ]
    }
   ],
   "source": [
    "\n",
    "\n",
    "from plantillasArquitectura import Datos as d\n",
    "from plantillasArquitectura import EstrategiaParticionado as ep\n",
    "\n",
    "porcentaje = 25\n",
    "dataset = d.Datos('./plantillasArquitectura/datos/conjunto_datos_lentillas.txt')\n",
    "estrategia = ep.ValidacionSimple(porcentaje)\n",
    "listaParticiones = estrategia.creaParticiones(dataset.datos)\n",
    "\n",
    "print('Tal y como esperamos, la lista de particiones de la estrategia tiene longitud ', len(listaParticiones))\n",
    "print('\\nHay ', len(listaParticiones[0].indicesTrain), 'índices (más o menos el ',100-porcentaje,'% de ',len(dataset.datos),', que es el número de datos) destinados al entrenamiento del modelo, y son:')\n",
    "print(listaParticiones[0].indicesTrain)\n",
    "print('\\nLos ',len(listaParticiones[0].indicesTest),' índices restantes forman el conjunto de test: ')\n",
    "print(listaParticiones[0].indicesTest)"
   ]
  },
  {
   "cell_type": "markdown",
   "metadata": {},
   "source": [
    "#### Tic-tac-toe\n",
    "Como en este fichero hay mayor número de datos, imprimiremos simplemente el número de particiones (que, al ser validación simple, esperamos que sea uno), y el número de elementos de cada conjunto de la partición, para comprobar que se obtiene el porcentaje deseado."
   ]
  },
  {
   "cell_type": "code",
   "execution_count": 21,
   "metadata": {},
   "outputs": [
    {
     "name": "stdout",
     "output_type": "stream",
     "text": [
      "El fichero tic-tac-toe cuenta con un total de  958  datos\n",
      "La lista de particiones de la estrategia tiene longitud 1\n",
      "\n",
      "Hay  671 índices  en el conjunto de train, acorde con el  70 % esperado.\n",
      "Los  287 índices restantes forman el conjunto de test, un 30 % de los datos totales\n"
     ]
    }
   ],
   "source": [
    "porcentaje = 30\n",
    "dataset = d.Datos('./plantillasArquitectura/datos/tic-tac-toe.data')\n",
    "estrategia = ep.ValidacionSimple(porcentaje)\n",
    "listaParticiones = estrategia.creaParticiones(dataset.datos)\n",
    "\n",
    "print('El fichero tic-tac-toe cuenta con un total de ', len(dataset.datos),' datos')\n",
    "print('La lista de particiones de la estrategia tiene longitud', len(listaParticiones))\n",
    "print('\\nHay ', len(listaParticiones[0].indicesTrain), 'índices  en el conjunto de train, acorde con el ',100-porcentaje,'% esperado.')\n",
    "print('Los ',len(listaParticiones[0].indicesTest),'índices restantes forman el conjunto de test, un',porcentaje ,'% de los datos totales')\n"
   ]
  },
  {
   "cell_type": "markdown",
   "metadata": {},
   "source": [
    "#### German\n",
    "Debido a la longitud de los datos, hacemos la simplificación anterior. Además, vamos a comprobar que ambos conjuntos (train y test) son disjuntos:"
   ]
  },
  {
   "cell_type": "code",
   "execution_count": 24,
   "metadata": {},
   "outputs": [
    {
     "name": "stdout",
     "output_type": "stream",
     "text": [
      "El fichero cuenta con un total de  1000  datos\n",
      "La lista de particiones de la estrategia tiene longitud 1\n",
      "\n",
      "Hay  800 índices  en el conjunto de train, acorde con el  80 % esperado.\n",
      "Los  200 índices restantes forman el conjunto de test, un 20 % de los datos totales\n",
      "\n",
      "Por último, comprobamos el tamaño de la intersección de los conjuntos de train y test:  0\n"
     ]
    }
   ],
   "source": [
    "porcentaje = 20\n",
    "dataset = d.Datos('./plantillasArquitectura/datos/german.data')\n",
    "estrategia = ep.ValidacionSimple(porcentaje)\n",
    "listaParticiones = estrategia.creaParticiones(dataset.datos)\n",
    "\n",
    "print('El fichero cuenta con un total de ', len(dataset.datos),' datos')\n",
    "print('La lista de particiones de la estrategia tiene longitud', len(listaParticiones))\n",
    "print('\\nHay ', len(listaParticiones[0].indicesTrain), 'índices  en el conjunto de train, acorde con el ',100-porcentaje,'% esperado.')\n",
    "print('Los ',len(listaParticiones[0].indicesTest),'índices restantes forman el conjunto de test, un',porcentaje ,'% de los datos totales')\n",
    "set1 = set(listaParticiones[0].indicesTest)\n",
    "set2 = set(listaParticiones[0].indicesTrain)\n",
    "set3 = set1.intersection(set2)\n",
    "print('\\nPor último, comprobamos el tamaño de la intersección de los conjuntos de train y test: ', len(set3) )"
   ]
  },
  {
   "cell_type": "markdown",
   "metadata": {},
   "source": [
    "### Validación cruzada\n",
    "Si particionamos los datos usando validación cruzada, los datos se dividen en $K$ intervalos del mismo tamaño para evaluar el modelo. \n",
    "\n",
    "A lo largo de $K$ iteraciones, cada uno de estos K intervalos es usado una vez como conjunto de test, mientras los restantes $K-1$ conforman el conjunto de entrenamiento. Así, en cada iteración un error es calculado usando conjuntos de test y entrenamiento distintos, y el error final del modelo queda determinado por el error medio. En la implementación, este parámetro $K$ es elegido por el usuario.\n",
    "\n",
    "Comprobaremos cómo funciona mediante algunos ejemplos, pero primero mostramos el código según el cual se crean las particiones de validación cruzada.\n",
    "\n",
    "```python\n",
    "def creaParticiones(self,datos,seed=None):\n",
    "        # we assign a new value to seed only if it is None already\n",
    "        if seed == None:\n",
    "            random.seed(seed)\n",
    "\n",
    "        # number of rows of the datos Matrix (number of inidvidual data)\n",
    "        totalRows = len(datos)\n",
    "        rows = list(range(0, totalRows))\n",
    "        random.shuffle(rows)\n",
    "        # number of rows in each partition (we take the integer part for the size of the test data)\n",
    "        partitionSize = int(totalRows / self.numeroParticiones)\n",
    "        for i in range(0, self.numeroParticiones):\n",
    "            particionCruzada = Particion()\n",
    "            test = rows[i * partitionSize : (i + 1) * partitionSize]\n",
    "            train = list(set(rows) - set(test))\n",
    "            particionCruzada.indicesTrain = train\n",
    "            particionCruzada.indicesTest = test\n",
    "            self.listaParticiones.append(particionCruzada)\n",
    "\n",
    "        return self.listaParticiones\n",
    "```"
   ]
  },
  {
   "cell_type": "markdown",
   "metadata": {},
   "source": [
    "#### Lenses \n"
   ]
  },
  {
   "cell_type": "code",
   "execution_count": 33,
   "metadata": {},
   "outputs": [
    {
     "name": "stdout",
     "output_type": "stream",
     "text": [
      "Contamos con  24 datos.\n",
      "La lista de particiones de la estrategia tiene longitud  5\n",
      "\n",
      "Para cada partición, vamos a imprimir el tamanio de los conjuntos de test y entrenamiento, y su suma.\n",
      "Esperariamos que cada tamanio fuera siempre el mismo, y que la suma fuera el numero total de datos\n",
      "Particion 1 :  4 + 20 = 24\n",
      "Particion 2 :  4 + 20 = 24\n",
      "Particion 3 :  4 + 20 = 24\n",
      "Particion 4 :  4 + 20 = 24\n",
      "Particion 5 :  4 + 20 = 24\n",
      "\n",
      "Como el conjunto de datos de lentillas es pequenio, vamos a imprimir los indices de test de cada particion, para ver que son realmente conjuntos distintos\n",
      "El conjunto de test  1 es [21, 5, 17, 16]\n",
      "El conjunto de test  2 es [4, 18, 3, 1]\n",
      "El conjunto de test  3 es [9, 13, 14, 0]\n",
      "El conjunto de test  4 es [10, 7, 15, 12]\n",
      "El conjunto de test  5 es [6, 19, 20, 23]\n",
      "\n",
      "Ademas, vamos a comprobar que los conjuntos de test son disjuntos dos a dos, para ver que la particion tiene la estructura deseada:\n",
      "La interseccion de los conjuntos de test 1 y 2 es vacia\n",
      "La interseccion de los conjuntos de test 1 y 3 es vacia\n",
      "La interseccion de los conjuntos de test 1 y 4 es vacia\n",
      "La interseccion de los conjuntos de test 1 y 5 es vacia\n",
      "La interseccion de los conjuntos de test 2 y 3 es vacia\n",
      "La interseccion de los conjuntos de test 2 y 4 es vacia\n",
      "La interseccion de los conjuntos de test 2 y 5 es vacia\n",
      "La interseccion de los conjuntos de test 3 y 4 es vacia\n",
      "La interseccion de los conjuntos de test 3 y 5 es vacia\n",
      "La interseccion de los conjuntos de test 4 y 5 es vacia\n"
     ]
    }
   ],
   "source": [
    "nParticiones = 5\n",
    "dataset = d.Datos('./plantillasArquitectura/datos/conjunto_datos_lentillas.txt')\n",
    "estrategia = ep.ValidacionCruzada(nParticiones)\n",
    "listaParticiones = estrategia.creaParticiones(dataset.datos)\n",
    "\n",
    "print('Contamos con ', len(dataset.datos), 'datos.')\n",
    "print('La lista de particiones de la estrategia tiene longitud ', len(listaParticiones))\n",
    "print('\\nPara cada partición, vamos a imprimir el tamanio de los conjuntos de test y entrenamiento, y su suma.')\n",
    "print('Esperariamos que cada tamanio fuera siempre el mismo, y que la suma fuera el numero total de datos')\n",
    "for i in range(nParticiones):\n",
    "    sizeTrain = len(listaParticiones[i].indicesTrain)\n",
    "    sizeTest = len(listaParticiones[i].indicesTest)\n",
    "    print('Particion', i+1, ': ', sizeTest,'+', sizeTrain, '=' , sizeTest+sizeTrain)\n",
    "\n",
    "    \n",
    "print('\\nComo el conjunto de datos de lentillas es pequenio, vamos a imprimir los indices de test de cada particion, para ver que son realmente conjuntos distintos')\n",
    "for i in range(nParticiones):\n",
    "    print('El conjunto de test ', i+1, 'es', listaParticiones[i].indicesTest)\n",
    "\n",
    "print('\\nAdemas, vamos a comprobar que los conjuntos de test son disjuntos dos a dos, para ver que la particion tiene la estructura deseada:')\n",
    "for i in range(nParticiones):\n",
    "    for j in range(i+1, nParticiones):\n",
    "        set1 = set(listaParticiones[i].indicesTest)\n",
    "        set2 = set(listaParticiones[j].indicesTest)\n",
    "        set3 = set1.intersection(set2)\n",
    "        if(len(set3) == 0):\n",
    "            print('La interseccion de los conjuntos de test', i+1, 'y', j+1, 'es vacia')\n"
   ]
  },
  {
   "cell_type": "markdown",
   "metadata": {},
   "source": [
    "####  German\n",
    "Para este conjunto, como es más grande, nos limitaremos a mostrar el tamaño de cada conjunto de cada partición (al igual que en el caso anterior), y a comprobar que las intersecciones de las distintos conjuntos de test son nulas, ya que son demasiado largos para imprimirlos uno a uno."
   ]
  },
  {
   "cell_type": "code",
   "execution_count": 35,
   "metadata": {},
   "outputs": [
    {
     "name": "stdout",
     "output_type": "stream",
     "text": [
      "Contamos con  1000 datos.\n",
      "La lista de particiones de la estrategia tiene longitud  6\n",
      "\n",
      "Para cada partición, vamos a imprimir el tamanio de los conjuntos de test y entrenamiento, y su suma.\n",
      "Esperariamos que cada tamanio fuera siempre el mismo, y que la suma fuera el numero total de datos\n",
      "Particion 1 :  166 + 834 = 1000\n",
      "Particion 2 :  166 + 834 = 1000\n",
      "Particion 3 :  166 + 834 = 1000\n",
      "Particion 4 :  166 + 834 = 1000\n",
      "Particion 5 :  166 + 834 = 1000\n",
      "Particion 6 :  166 + 834 = 1000\n",
      "\n",
      "Ademas, vamos a comprobar que los conjuntos de test son disjuntos dos a dos, para ver que la particion tiene la estructura deseada:\n",
      "La interseccion de los conjuntos de test 1 y 2 es vacia\n",
      "La interseccion de los conjuntos de test 1 y 3 es vacia\n",
      "La interseccion de los conjuntos de test 1 y 4 es vacia\n",
      "La interseccion de los conjuntos de test 1 y 5 es vacia\n",
      "La interseccion de los conjuntos de test 1 y 6 es vacia\n",
      "La interseccion de los conjuntos de test 2 y 3 es vacia\n",
      "La interseccion de los conjuntos de test 2 y 4 es vacia\n",
      "La interseccion de los conjuntos de test 2 y 5 es vacia\n",
      "La interseccion de los conjuntos de test 2 y 6 es vacia\n",
      "La interseccion de los conjuntos de test 3 y 4 es vacia\n",
      "La interseccion de los conjuntos de test 3 y 5 es vacia\n",
      "La interseccion de los conjuntos de test 3 y 6 es vacia\n",
      "La interseccion de los conjuntos de test 4 y 5 es vacia\n",
      "La interseccion de los conjuntos de test 4 y 6 es vacia\n",
      "La interseccion de los conjuntos de test 5 y 6 es vacia\n"
     ]
    }
   ],
   "source": [
    "nParticiones = 6\n",
    "dataset = d.Datos('./plantillasArquitectura/datos/german.data')\n",
    "estrategia = ep.ValidacionCruzada(nParticiones)\n",
    "listaParticiones = estrategia.creaParticiones(dataset.datos)\n",
    "\n",
    "print('Contamos con ', len(dataset.datos), 'datos.')\n",
    "print('La lista de particiones de la estrategia tiene longitud ', len(listaParticiones))\n",
    "print('\\nPara cada partición, vamos a imprimir el tamanio de los conjuntos de test y entrenamiento, y su suma.')\n",
    "print('Esperariamos que cada tamanio fuera siempre el mismo, y que la suma fuera el numero total de datos')\n",
    "for i in range(nParticiones):\n",
    "    sizeTrain = len(listaParticiones[i].indicesTrain)\n",
    "    sizeTest = len(listaParticiones[i].indicesTest)\n",
    "    print('Particion', i+1, ': ', sizeTest,'+', sizeTrain, '=' , sizeTest+sizeTrain)\n",
    "\n",
    "    \n",
    "print('\\nAdemas, vamos a comprobar que los conjuntos de test son disjuntos dos a dos, para ver que la particion tiene la estructura deseada:')\n",
    "for i in range(nParticiones):\n",
    "    for j in range(i+1, nParticiones):\n",
    "        set1 = set(listaParticiones[i].indicesTest)\n",
    "        set2 = set(listaParticiones[j].indicesTest)\n",
    "        set3 = set1.intersection(set2)\n",
    "        if(len(set3) == 0):\n",
    "            print('La interseccion de los conjuntos de test', i+1, 'y', j+1, 'es vacia')\n"
   ]
  },
  {
   "cell_type": "markdown",
   "metadata": {},
   "source": [
    "####  Tic-tac-toe\n",
    "Procedemos de igual manera para el conjunto de datos tic-tac-toe."
   ]
  },
  {
   "cell_type": "code",
   "execution_count": 36,
   "metadata": {},
   "outputs": [
    {
     "name": "stdout",
     "output_type": "stream",
     "text": [
      "Contamos con  958 datos.\n",
      "La lista de particiones de la estrategia tiene longitud  4\n",
      "\n",
      "Para cada partición, vamos a imprimir el tamanio de los conjuntos de test y entrenamiento, y su suma.\n",
      "Esperariamos que cada tamanio fuera siempre el mismo, y que la suma fuera el numero total de datos\n",
      "Particion 1 :  239 + 719 = 958\n",
      "Particion 2 :  239 + 719 = 958\n",
      "Particion 3 :  239 + 719 = 958\n",
      "Particion 4 :  239 + 719 = 958\n",
      "\n",
      "Ademas, vamos a comprobar que los conjuntos de test son disjuntos dos a dos, para ver que la particion tiene la estructura deseada:\n",
      "La interseccion de los conjuntos de test 1 y 2 es vacia\n",
      "La interseccion de los conjuntos de test 1 y 3 es vacia\n",
      "La interseccion de los conjuntos de test 1 y 4 es vacia\n",
      "La interseccion de los conjuntos de test 2 y 3 es vacia\n",
      "La interseccion de los conjuntos de test 2 y 4 es vacia\n",
      "La interseccion de los conjuntos de test 3 y 4 es vacia\n"
     ]
    }
   ],
   "source": [
    "nParticiones = 4\n",
    "dataset = d.Datos('./plantillasArquitectura/datos/tic-tac-toe.data')\n",
    "estrategia = ep.ValidacionCruzada(nParticiones)\n",
    "listaParticiones = estrategia.creaParticiones(dataset.datos)\n",
    "\n",
    "print('Contamos con ', len(dataset.datos), 'datos.')\n",
    "print('La lista de particiones de la estrategia tiene longitud ', len(listaParticiones))\n",
    "print('\\nPara cada partición, vamos a imprimir el tamanio de los conjuntos de test y entrenamiento, y su suma.')\n",
    "print('Esperariamos que cada tamanio fuera siempre el mismo, y que la suma fuera el numero total de datos')\n",
    "for i in range(nParticiones):\n",
    "    sizeTrain = len(listaParticiones[i].indicesTrain)\n",
    "    sizeTest = len(listaParticiones[i].indicesTest)\n",
    "    print('Particion', i+1, ': ', sizeTest,'+', sizeTrain, '=' , sizeTest+sizeTrain)\n",
    "\n",
    "    \n",
    "print('\\nAdemas, vamos a comprobar que los conjuntos de test son disjuntos dos a dos, para ver que la particion tiene la estructura deseada:')\n",
    "for i in range(nParticiones):\n",
    "    for j in range(i+1, nParticiones):\n",
    "        set1 = set(listaParticiones[i].indicesTest)\n",
    "        set2 = set(listaParticiones[j].indicesTest)\n",
    "        set3 = set1.intersection(set2)\n",
    "        if(len(set3) == 0):\n",
    "            print('La interseccion de los conjuntos de test', i+1, 'y', j+1, 'es vacia')\n"
   ]
  },
  {
   "cell_type": "markdown",
   "metadata": {},
   "source": [
    "###  Conclusión (ventajas/desventajas)\n",
    "Tal y como se ha descrito, queda claro que el modelo de validación cruzada es más simple y computacionalmente menos costoso que la cruzada, de hecho, es más ligero que la estrategia de validación cruzada donde se ha configurado $K = 2$, siendo a su vez esta configuración la menos costosa dentro de validación cruzada (sólo dos iteraciones). \n",
    "\n",
    "En contraposición, el modelo de validación cruzada es más lento y costoso, ya que los datos son entrenados y evaluados $K$ veces en vez de una, y la complejidad de la validación crece linealmente con $K$ ya que, aunque el tamaño de las particiones disminuye, aumenta el número de entrenamientos a realizar.\n",
    "\n",
    "La principal ventaja de la validación cruzada es a su vez una desventaja de la simple. Cuando entrenamos $K$ veces y probamos sobre $K$ conjuntos distintos, conseguimos que el error del modelo devuelto por la validación sea más fiable. Evita que si, para un conjunto de test particular el modelo se ajusta muy, muy bien o muy, muy mal por pura casualidad, caigamos en el error que nuestro modelo es realmente muy bueno o muy malo. Al hacer la media de $K$ errores evitamos resultados de este estilo, ya que si tus $K$ conjuntos de test distintos que se ajustan fatal al modelo, es bastante improbable que esto sea casualidad, y seguramente ocurra que tu modelo es malo.\n",
    "\n",
    "Este pro de la cruzada explica precisamente la desventaja de la vaidación simple, donde al realizar un sólo test con un sólo conjunto de entrenamiento, no sabemos cómo de fiel es el error obtenido a la realidad\n"
   ]
  },
  {
   "cell_type": "markdown",
   "metadata": {},
   "source": [
    "##  Naive-Bayes\n",
    "___\n",
    "A continuación, realizaremos los tests necesarios para analizar nuestra implementación de Naive-Bayes.\n",
    "\n",
    "Extraemos información acerca de las tasas de error según los datos (lenses, german y toc-tac-toe), la estrategia de partición (cruzada o simple) aplicando diferentes parámetros (variamos $K$ y porcentajes) y si ha sido aplicada o no la corrección de Laplace. Cada prueba se realiza 15 veces para extraer luego media y varianza de la tasa de error obtenida.\n",
    "\n",
    "Además, vamos a separar la ejecución de german.data: debido a los altos tiempos de espera, no vamos a ejecutar validación cruzada con $K$ = 20."
   ]
  },
  {
   "cell_type": "code",
   "execution_count": 5,
   "metadata": {},
   "outputs": [
    {
     "name": "stdout",
     "output_type": "stream",
     "text": [
      "\n",
      " LENTILLAS\n",
      "\n",
      "v. simple, 20 %, Laplace a  True \n",
      "Error medio: 0.18707010582010583 \n",
      "Desviacion tipica: 0.10652303118171035\n",
      "\n",
      "v. simple, 20 %, Laplace a  False \n",
      "Error medio: 0.281454289140887 \n",
      "Desviacion tipica: 0.02117657740724123\n",
      "\n",
      "v. simple, 30 %, Laplace a  True \n",
      "Error medio: 0.30985532985532976 \n",
      "Desviacion tipica: 0.04657434713364248\n",
      "\n",
      "v. simple, 30 %, Laplace a  False \n",
      "Error medio: 0.29824773789506037 \n",
      "Desviacion tipica: 0.010464963283521799\n",
      "\n",
      "v.  cruzada, K = 5 , Laplace a  True \n",
      "Error medio: 0.28869312169312167 \n",
      "Desviacion tipica: 0.02487765674682043\n",
      "\n",
      "v.  cruzada, K = 5 , Laplace a  False \n",
      "Error medio: 0.28418901508524097 \n",
      "Desviacion tipica: 0.0018906723719780444\n",
      "\n",
      "v.  cruzada, K = 10 , Laplace a  True \n",
      "Error medio: 0.27825215525215524 \n",
      "Desviacion tipica: 0.030350355900919987\n",
      "\n",
      "v.  cruzada, K = 10 , Laplace a  False \n",
      "Error medio: 0.29321938595762814 \n",
      "Desviacion tipica: 0.0022977477680256935\n",
      "\n",
      "v.  cruzada, K = 15 , Laplace a  True \n",
      "Error medio: 0.2977520380853714 \n",
      "Desviacion tipica: 0.028939338435963288\n",
      "\n",
      "v.  cruzada, K = 15 , Laplace a  False \n",
      "Error medio: 0.31630019900479883 \n",
      "Desviacion tipica: 0.0054038023949621585\n",
      "\n",
      "v.  cruzada, K = 20 , Laplace a  True \n",
      "Error medio: 0.30044067969067967 \n",
      "Desviacion tipica: 0.013906381557000608\n",
      "\n",
      "v.  cruzada, K = 20 , Laplace a  False \n",
      "Error medio: 0.2941544902308154 \n",
      "Desviacion tipica: 0.0027483560432752393\n",
      "\n",
      " TIC-TAC-TOE\n",
      "\n",
      "v. simple, 20 %, Laplace a  True \n",
      "Error medio: 0.3157693111619813 \n",
      "Desviacion tipica: 0.008024414919072837\n",
      "\n",
      "v. simple, 20 %, Laplace a  False \n",
      "Error medio: 0.30715840570653236 \n",
      "Desviacion tipica: 0.0018241057907731326\n",
      "\n",
      "v. simple, 30 %, Laplace a  True \n",
      "Error medio: 0.3072813687796267 \n",
      "Desviacion tipica: 0.00498404312234937\n",
      "\n",
      "v. simple, 30 %, Laplace a  False \n",
      "Error medio: 0.2974792398385971 \n",
      "Desviacion tipica: 0.0012517400598207036\n",
      "\n",
      "v.  cruzada, K = 5 , Laplace a  True \n",
      "Error medio: 0.29815633929770063 \n",
      "Desviacion tipica: 0.0011237003884694938\n",
      "\n",
      "v.  cruzada, K = 5 , Laplace a  False \n",
      "Error medio: 0.29768100924784496 \n",
      "Desviacion tipica: 0.0003102435633685336\n",
      "\n",
      "v.  cruzada, K = 10 , Laplace a  True \n",
      "Error medio: 0.3065229520966363 \n",
      "Desviacion tipica: 0.0027403155344687276\n",
      "\n",
      "v.  cruzada, K = 10 , Laplace a  False \n",
      "Error medio: 0.30499854452123293 \n",
      "Desviacion tipica: 0.0004487476860778312\n",
      "\n",
      "v.  cruzada, K = 15 , Laplace a  True \n",
      "Error medio: 0.3061507211189749 \n",
      "Desviacion tipica: 0.0010970578166978094\n",
      "\n",
      "v.  cruzada, K = 15 , Laplace a  False \n",
      "Error medio: 0.3056028388772714 \n",
      "Desviacion tipica: 0.00020926769159998194\n",
      "\n",
      "v.  cruzada, K = 20 , Laplace a  True \n",
      "Error medio: 0.30717220466688555 \n",
      "Desviacion tipica: 0.0021257169820999827\n",
      "\n",
      "v.  cruzada, K = 20 , Laplace a  False \n",
      "Error medio: 0.30606310093877337 \n",
      "Desviacion tipica: 0.00017380868166042628\n"
     ]
    }
   ],
   "source": [
    "from plantillasArquitectura import Datos as d\n",
    "from plantillasArquitectura import EstrategiaParticionado as ep\n",
    "from plantillasArquitectura import Clasificador as cl\n",
    "import numpy as np\n",
    "nRepeticiones = 15\n",
    "\n",
    "dicc = dict()\n",
    "dicc['LENTILLAS'] = './plantillasArquitectura/datos/conjunto_datos_lentillas.txt'\n",
    "dicc['TIC-TAC-TOE'] = './plantillasArquitectura/datos/tic-tac-toe.data'\n",
    "\n",
    "for file in dicc:\n",
    "    dataset = d.Datos(dicc[file])\n",
    "    clasificador = cl.ClasificadorNaiveBayes()\n",
    "    print('\\n', file)\n",
    "    for j in range(2,4):\n",
    "        porcentaje = 10*j\n",
    "        estrategia = ep.ValidacionSimple(porcentaje)    \n",
    "        boolean = True\n",
    "        for i in range(2):\n",
    "            errores = np.array([clasificador.validacion(estrategia,dataset,clasificador, laplace = boolean) for k in range(nRepeticiones)])\n",
    "            mean, std = np.mean(errores), np.std(errores)\n",
    "            print('\\nv. simple,',porcentaje,'%, Laplace a ',boolean,'\\nError medio:', mean, '\\nDesviacion tipica:', std)\n",
    "            boolean = False\n",
    "\n",
    "    for i in range(5,25,5):\n",
    "        boolean = True\n",
    "        estrategia = ep.ValidacionCruzada(i)\n",
    "        for j in range(2):\n",
    "            errores = np.array([clasificador.validacion(estrategia,dataset,clasificador, laplace = boolean) for k in range(nRepeticiones)])\n",
    "            mean, std = np.mean(errores), np.std(errores)\n",
    "            print('\\nv.  cruzada, K =',i,', Laplace a ',boolean,'\\nError medio:', mean, '\\nDesviacion tipica:', std)\n",
    "            boolean = False\n",
    "\n"
   ]
  },
  {
   "cell_type": "code",
   "execution_count": 10,
   "metadata": {},
   "outputs": [
    {
     "name": "stdout",
     "output_type": "stream",
     "text": [
      "\n",
      " GERMAN\n",
      "\n",
      "v. simple, 20 %, Laplace a  True \n",
      "Error medio: 0.23460110722610727 \n",
      "Desviacion tipica: 0.00952263697816008\n",
      "\n",
      "v. simple, 20 %, Laplace a  False \n",
      "Error medio: 0.2446694820323945 \n",
      "Desviacion tipica: 0.0011478083273373182\n",
      "\n",
      "v. simple, 30 %, Laplace a  True \n",
      "Error medio: 0.2576847664680998 \n",
      "Desviacion tipica: 0.004215858765510572\n",
      "\n",
      "v. simple, 30 %, Laplace a  False \n",
      "Error medio: 0.2520141059434448 \n",
      "Desviacion tipica: 0.0013129895377858606\n",
      "\n",
      "v.  cruzada, K = 5 , Laplace a  True \n",
      "Error medio: 0.2518985492285494 \n",
      "Desviacion tipica: 0.000473868368093443\n",
      "\n",
      "v.  cruzada, K = 5 , Laplace a  False \n",
      "Error medio: 0.2513488633324174 \n",
      "Desviacion tipica: 0.00022937065414628272\n",
      "\n",
      "v.  cruzada, K = 10 , Laplace a  True \n",
      "Error medio: 0.2507002980352981 \n",
      "Desviacion tipica: 0.0009652189360731041\n",
      "\n",
      "v.  cruzada, K = 10 , Laplace a  False \n",
      "Error medio: 0.24892872448140674 \n",
      "Desviacion tipica: 0.0002781312088348454\n",
      "\n",
      "v.  cruzada, K = 15 , Laplace a  True \n",
      "Error medio: 0.24817009907413942 \n",
      "Desviacion tipica: 0.0027209664953959708\n",
      "\n",
      "v.  cruzada, K = 15 , Laplace a  False \n",
      "Error medio: 0.24626081046399884 \n",
      "Desviacion tipica: 0.00031759519137716173\n"
     ]
    }
   ],
   "source": [
    "from plantillasArquitectura import Datos as d\n",
    "from plantillasArquitectura import EstrategiaParticionado as ep\n",
    "from plantillasArquitectura import Clasificador as cl\n",
    "import numpy as np\n",
    "nRepeticiones = 15\n",
    "\n",
    "dicc = dict()\n",
    "dicc['GERMAN'] = './plantillasArquitectura/datos/german.data'\n",
    "file = 'GERMAN'\n",
    "dataset = d.Datos(dicc[file])\n",
    "clasificador = cl.ClasificadorNaiveBayes()\n",
    "print('\\n', file)\n",
    "for j in range(2,4):\n",
    "    porcentaje = 10*j\n",
    "    estrategia = ep.ValidacionSimple(porcentaje)    \n",
    "    boolean = True\n",
    "    for i in range(2):\n",
    "        errores = np.array([clasificador.validacion(estrategia,dataset,clasificador, laplace = boolean) for k in range(nRepeticiones)])\n",
    "        mean, std = np.mean(errores), np.std(errores)\n",
    "        print('\\nv. simple,',porcentaje,'%, Laplace a ',boolean,'\\nError medio:', mean, '\\nDesviacion tipica:', std)\n",
    "        boolean = False\n",
    "\n",
    "for i in range(5,20,5):\n",
    "    boolean = True\n",
    "    estrategia = ep.ValidacionCruzada(i)\n",
    "    for j in range(2):\n",
    "        errores = np.array([clasificador.validacion(estrategia,dataset,clasificador, laplace = boolean) for k in range(nRepeticiones)])\n",
    "        mean, std = np.mean(errores), np.std(errores)\n",
    "        print('\\nv.  cruzada, K =',i,', Laplace a ',boolean,'\\nError medio:', mean, '\\nDesviacion tipica:', std)\n",
    "        boolean = False\n"
   ]
  },
  {
   "cell_type": "markdown",
   "metadata": {},
   "source": [
    "A continuación, se muestra la tabla donde se reflejan los resultados de las pruebas.\n",
    "Los resultados de los dos primeros ficheros no son exactamente los mismos a los impresos más arriba: es porque ejecutamos de nuevo la celda sin querer, y los valores han cambiado. \n",
    "Los valores de la tabla corresponden a la ejecución anterior (por favor, creenos), aunque en ambos casos siguen la misma tendencia. \n",
    "\n",
    "![alt text](https://github.com/luciaasen/FAA/blob/master/p1/tablas/NB_tables.png?raw=true)"
   ]
  },
  {
   "cell_type": "markdown",
   "metadata": {},
   "source": [
    "#### Observaciones/ conclusiones\n",
    "* Sobre todo para el conjunto de latos lenses, podemos observar que la tendencia es que el modelo con corrección de Laplace sea más acertado que el modelo sin corrección. Para los otros dos ficheros apenas hay diferencia en los resultados: suponemos que esto se debe a que, al ser el número de datos mucho mayor, la corrección de Laplace ha de ser empleada en menos ocasiones y, cuando se utiliza, su efecto es menor debido también al número de ejemplos.\n",
    "\n",
    "* Comparando los distintos ficheros entre sí, parece que Naive-Bayes funciona ligeramente mejor con el fichero de german.data. Este hecho es razonable, ya que éste es el fichero que más datos distintos contiene, por lo cual en todos los casos el conjunto de entrenamiento es mayor. Además, es éste el fichero donde modelamos los atributos continuos como gaussianos. Puede que los resultados en este fichero sean mejores porque la distribución normal se ajusta muy bien al comportamiento de estos atributos.\n",
    "\n",
    "* Aunque esperábamos un mejor comportamiento usando la estrategia de validación cruzada que en validación simple, las tasas de error son más o menos las mismas, y de hecho a veces incluso más bajas en validación simple.\n",
    "\n",
    "* Lo que sí que hemos comprobado que disminuye en validación cruzada es la desviación típica. Cada uno de los errores con los que hemos calculado media y desviación proviene ya de una media de K errores, por lo que cualquier desviación grande de la media ha sido atenuada por la primera K-media. Es decir, es menos probable que el error de unna K-validación cruzada sea muy alto o muy bajo 'por casualidad', ya que esto querría decir que K errores han sido muy bajos o muy altos 'por casualidad' (poco probable). Es por esto que la desviación típica es menor en la validación cruzada.\n",
    "\n",
    "* En la mayoría de los casos, el error en validación simple con porcentaje 30% es ligeramente mayor que con porcentaje 20%. En cualquier caso ambos valores (que son los que hemos visto recomendados en más fuentes) trabajan bien. \n",
    "\n",
    "* Entre distintos valores de $K$, si miramos cada fila parece ser que el error disminuye a medida que aumenta $K$. Esto habla bien del modelo, porque indica que a pesar de estar probando muchos conjuntos de entrenamiento y test distintos, el error no crece sino que incluso disminuye. "
   ]
  },
  {
   "cell_type": "markdown",
   "metadata": {},
   "source": [
    "## Scikit-Learn\n",
    "___\n",
    "Vamos a ejecutar pruebas similares al apartado anterior, esta vez usando las funciones para partición, entrenamiento y validación del módulo Scikit-Learn.  De nuevo, se varían diferentes estrategias y parámetros.\n",
    "\n",
    "En este caso, cada configuración es repetida 25 veces en vez de 15, ya scikit_learn trabajaba más rápido que nuestro código.\n",
    "\n",
    "Debido a la necesidad de discretizar parámetros (las funciones del módulo no nos permitían mezclar atributos discretos y continuos) y de realizar muchas llamadas a métodos de la librería (en nuestro caso, el número de llamadas era menor porque las funciones estaban 'envueltas' a nuestra conveniencia), el código de estas pruebas ocupaba el doble que las del apartado anterior y no lo adjuntaremos en el cuaderno. \n",
    "\n",
    "No obstante, el fichero de pruebas puede ser encontrado en el directorio de la práctica."
   ]
  },
  {
   "cell_type": "code",
   "execution_count": 1,
   "metadata": {
    "scrolled": false
   },
   "outputs": [
    {
     "name": "stdout",
     "output_type": "stream",
     "text": [
      "\n",
      " LENTILLAS\n",
      "\n",
      "v. simple, 20.0 %, Laplace a  1.0 \n",
      "Error medio: 0.4000000000000001 \n",
      "Desviacion tipica: 5.551115123125783e-17\n",
      "\n",
      "v. simple, 20.0 %, Laplace a  1e-10 \n",
      "Error medio: 0.19999999999999996 \n",
      "Desviacion tipica: 0.0\n",
      "\n",
      "v. simple, 30.0 %, Laplace a  1.0 \n",
      "Error medio: 0.125 \n",
      "Desviacion tipica: 0.0\n",
      "\n",
      "v. simple, 30.0 %, Laplace a  1e-10 \n",
      "Error medio: 0.125 \n",
      "Desviacion tipica: 0.0\n",
      "\n",
      "v.  cruzada, K = 5 , Laplace a  1.0 \n",
      "Error medio: 0.33000000000000007 \n",
      "Desviacion tipica: 0.0\n",
      "\n",
      "v.  cruzada, K = 5 , Laplace a  1e-10 \n",
      "Error medio: 0.46000000000000013 \n",
      "Desviacion tipica: 5.551115123125783e-17\n",
      "\n",
      "v.  cruzada, K = 10 , Laplace a  1.0 \n",
      "Error medio: 0.2333333333333334 \n",
      "Desviacion tipica: 0.0\n",
      "\n",
      "v.  cruzada, K = 10 , Laplace a  1e-10 \n",
      "Error medio: 0.28333333333333344 \n",
      "Desviacion tipica: 0.0\n",
      "\n",
      "v.  cruzada, K = 15 , Laplace a  1.0 \n",
      "Error medio: 0.23333333333333328 \n",
      "Desviacion tipica: 0.0\n",
      "\n",
      "v.  cruzada, K = 15 , Laplace a  1e-10 \n",
      "Error medio: 0.2666666666666667 \n",
      "Desviacion tipica: 0.0\n",
      "\n",
      "v.  cruzada, K = 20 , Laplace a  1.0 \n",
      "Error medio: 0.275 \n",
      "Desviacion tipica: 0.0\n",
      "\n",
      "v.  cruzada, K = 20 , Laplace a  1e-10 \n",
      "Error medio: 0.32499999999999996 \n",
      "Desviacion tipica: 0.0\n",
      "\n",
      " TIC-TAC-TOE\n",
      "\n",
      "v. simple, 20.0 %, Laplace a  1.0 \n",
      "Error medio: 0.38541666666666663 \n",
      "Desviacion tipica: 0.0\n",
      "\n",
      "v. simple, 20.0 %, Laplace a  1e-10 \n",
      "Error medio: 0.38541666666666663 \n",
      "Desviacion tipica: 0.0\n",
      "\n",
      "v. simple, 30.0 %, Laplace a  1.0 \n",
      "Error medio: 0.41666666666666663 \n",
      "Desviacion tipica: 0.0\n",
      "\n",
      "v. simple, 30.0 %, Laplace a  1e-10 \n",
      "Error medio: 0.41666666666666663 \n",
      "Desviacion tipica: 0.0\n",
      "\n",
      "v.  cruzada, K = 5 , Laplace a  1.0 \n",
      "Error medio: 0.4321389616055846 \n",
      "Desviacion tipica: 0.0\n",
      "\n",
      "v.  cruzada, K = 5 , Laplace a  1e-10 \n",
      "Error medio: 0.4321389616055846 \n",
      "Desviacion tipica: 0.0\n",
      "\n",
      "v.  cruzada, K = 10 , Laplace a  1.0 \n",
      "Error medio: 0.4165789473684211 \n",
      "Desviacion tipica: 5.551115123125783e-17\n",
      "\n",
      "v.  cruzada, K = 10 , Laplace a  1e-10 \n",
      "Error medio: 0.4165789473684211 \n",
      "Desviacion tipica: 5.551115123125783e-17\n",
      "\n",
      "v.  cruzada, K = 15 , Laplace a  1.0 \n",
      "Error medio: 0.4059854497354498 \n",
      "Desviacion tipica: 0.0\n",
      "\n",
      "v.  cruzada, K = 15 , Laplace a  1e-10 \n",
      "Error medio: 0.4059854497354498 \n",
      "Desviacion tipica: 0.0\n",
      "\n",
      "v.  cruzada, K = 20 , Laplace a  1.0 \n",
      "Error medio: 0.4030141843971631 \n",
      "Desviacion tipica: 0.0\n",
      "\n",
      "v.  cruzada, K = 20 , Laplace a  1e-10 \n",
      "Error medio: 0.4030141843971631 \n",
      "Desviacion tipica: 0.0\n",
      "\n",
      " GERMAN\n",
      "\n",
      "v. simple, 20.0 %, Laplace a  1.0 \n",
      "Error medio: 0.36999999999999994 \n",
      "Desviacion tipica: 5.551115123125783e-17\n",
      "\n",
      "v. simple, 20.0 %, Laplace a  1e-10 \n",
      "Error medio: 0.36 \n",
      "Desviacion tipica: 0.0\n",
      "\n",
      "v. simple, 30.0 %, Laplace a  1.0 \n",
      "Error medio: 0.32333333333333336 \n",
      "Desviacion tipica: 0.0\n",
      "\n",
      "v. simple, 30.0 %, Laplace a  1e-10 \n",
      "Error medio: 0.32666666666666666 \n",
      "Desviacion tipica: 0.0\n",
      "\n",
      "v.  cruzada, K = 5 , Laplace a  1.0 \n",
      "Error medio: 0.31899999999999995 \n",
      "Desviacion tipica: 0.0\n",
      "\n",
      "v.  cruzada, K = 5 , Laplace a  1e-10 \n",
      "Error medio: 0.31699999999999995 \n",
      "Desviacion tipica: 0.0\n",
      "\n",
      "v.  cruzada, K = 10 , Laplace a  1.0 \n",
      "Error medio: 0.31699999999999995 \n",
      "Desviacion tipica: 0.0\n",
      "\n",
      "v.  cruzada, K = 10 , Laplace a  1e-10 \n",
      "Error medio: 0.31599999999999995 \n",
      "Desviacion tipica: 0.0\n",
      "\n",
      "v.  cruzada, K = 15 , Laplace a  1.0 \n",
      "Error medio: 0.31775968641640284 \n",
      "Desviacion tipica: 0.0\n",
      "\n",
      "v.  cruzada, K = 15 , Laplace a  1e-10 \n",
      "Error medio: 0.31575456053067985 \n",
      "Desviacion tipica: 0.0\n",
      "\n",
      "v.  cruzada, K = 20 , Laplace a  1.0 \n",
      "Error medio: 0.3190000000000002 \n",
      "Desviacion tipica: 0.0\n",
      "\n",
      "v.  cruzada, K = 20 , Laplace a  1e-10 \n",
      "Error medio: 0.32000000000000006 \n",
      "Desviacion tipica: 0.0\n"
     ]
    }
   ],
   "source": [
    "import prueba_scikit\n",
    "prueba_scikit.pruebaScikit()"
   ]
  },
  {
   "cell_type": "markdown",
   "metadata": {},
   "source": [
    "Nótese que en esta tabla **se ha omitido la desviación típica**, por ser esta valores muy cercanos a cero en todas las iteraciones. Las desviaciones eran o nulas o del orden de $10^{-17}$ en todos los casos.\n",
    "\n",
    "![alt text](https://github.com/luciaasen/FAA/blob/master/p1/tablas/scikit_tables.png?raw=true)"
   ]
  },
  {
   "cell_type": "markdown",
   "metadata": {},
   "source": [
    "#### Observaciones/conclusiones\n",
    "Analicemos rápidamente los resultados que reflejan esta tabla:\n",
    "* En este caso, justo al contrario que en el anterior, el modelo parece tener más errores a medida que crece el conjunto de datos: las tasas son más bajas para el conjunto de las lentillas. Creemos que esto podría deberse a la discretización que forzamos en los atributos.\n",
    "* Acerca de Laplace, pasa lo mismo que en el análisis del apartado anterior. La corrección apenas afecta a los ficheros grandes sea cual sea la estrategia, mientras que sí que marca diferencias en el fichero de lentillas. Como ya hemos comentado, cuando las particiones tienen pocos datos es más probable que haya que aplicarla, y que cuando se aplique tenga una consecuencia más notable. Además, excepto en un caso, el modelo con corrección funciona igual o mejor que el que no tiene corrección.\n",
    "* En este caso no llegamos a una conclusión clara acerca de qué porcentaje es mejor en validación simple, ya que depende de una instancia a otra.\n",
    "* Para los casos estudiados, $K = 15$ parece ser la decisión acertada. Es aquí donde parece que se alcanza el mínimo de tasa de error, ya que para $K = 5, 10$ es mayor, y para $K = 20$ vuelve a crecer en todos los casos.\n",
    "* Lo más destacable de esta prueba es lo bajas que eran las desviaciones típicas de cada conjunto de validaciones. Hemos repetido la prueba varias veces y la desviación típica es siempre casi nula. Teorizamos que esto podría ser debido a la discretización, y por tanto a lo mejor sobresimplificación, de los datos.\n",
    "* En comparación con nuestra implementación Naive-Bayes, esta parece (para nuestra sorpresa) ser menos exacta: la tasa de error es, en general, mayor con Scikit. En contraposición, la ejecución con Scikit ha sido muchísimo más rápida que con nuestra implementación. La otra gran diferencia está en las desviaciones típicas, mucho más bajas en el último caso. Todas estas diferencias podrían estar causadas, de nuevo, por la discretización de los datos."
   ]
  },
  {
   "cell_type": "markdown",
   "metadata": {},
   "source": [
    "## Análisis ROC\n",
    "___\n",
    "\n",
    "### Matriz de confusión\n",
    "Para hallar la matriz de confusión, hemos decidido modificar el método de error de la clase clasificador para obtenerla de manera paralela al calculo de la tasa de error. Por ejemplo, "
   ]
  },
  {
   "cell_type": "code",
   "execution_count": 4,
   "metadata": {},
   "outputs": [
    {
     "name": "stdout",
     "output_type": "stream",
     "text": [
      "Para tic-tac-toe,\n",
      "\n",
      "Matriz de confusion con K = 5\n",
      "[[107.   38.2]\n",
      " [ 17.6  28.2]]\n",
      "\n",
      "Matriz de confusion con K = 10\n",
      "[[52.6 19.1]\n",
      " [ 9.6 13.7]]\n",
      "\n",
      "Matriz de confusion con K = 15\n",
      "[[34.4        12.66666667]\n",
      " [ 6.8         9.13333333]]\n"
     ]
    }
   ],
   "source": [
    "from plantillasArquitectura import Datos as d\n",
    "from plantillasArquitectura import EstrategiaParticionado as ep\n",
    "from plantillasArquitectura import Clasificador as cl\n",
    "import numpy as np\n",
    "\n",
    "dicc = dict()\n",
    "dicc['TIC-TAC-TOE'] = './plantillasArquitectura/datos/tic-tac-toe.data'\n",
    "file = 'TIC-TAC-TOE'\n",
    "dataset = d.Datos(dicc[file])\n",
    "clasificador = cl.ClasificadorNaiveBayes()\n",
    "print('Para tic-tac-toe,')\n",
    "for i in range(5,20,5):\n",
    "    estrategia = ep.ValidacionCruzada(i)\n",
    "    errores, mConf = clasificador.validacion(estrategia,dataset,clasificador, laplace = True, ROC = True)\n",
    "    mean, std = np.mean(errores), np.std(errores)\n",
    "    print('\\nMatriz de confusion con K =', i)\n",
    "    print(mConf)\n"
   ]
  },
  {
   "cell_type": "markdown",
   "metadata": {},
   "source": [
    "Una vez obtenida la matriz de confusión, podemos obtener fácilmente la true positive rate y false positive rate. Para representar los valores en el espacio ROC, no entendimos muy bien los resultados de qué entrenamientos debíamos representar (¿los datos de un sólo entrenamiento, la nube de puntos de repeticiones de un entrenamiento con los mismos parámetros, o los valores procedentes de cambiar un parámetro?)\n",
    "\n",
    "Hemos decidido que el hiperparámetro más natural en este trabajo es $K$, y que por tanto podemos calcular los puntos del espacio ROC correspondidentes  a distintos valores de $K$."
   ]
  },
  {
   "cell_type": "code",
   "execution_count": 1,
   "metadata": {
    "scrolled": true
   },
   "outputs": [
    {
     "name": "stdout",
     "output_type": "stream",
     "text": [
      "RESULTADOS INTERMEDIOS TICTAC, I = 10\n",
      "FPRs de tic-tac-toe:\n",
      "  [0.5831489973683529, 0.5834111364436242, 0.5842404521640951, 0.5848354190138167, 0.5837971942169645, 0.5803096226939939, 0.5805691193759772, 0.580862933313567, 0.5783599628888977]\n",
      "\n",
      "TPRs de tic-tac-toe:\n",
      "  [0.8546154991945397, 0.859504232797807, 0.854965938689982, 0.8534491804130411, 0.8500141335456197, 0.8476139058655536, 0.8461527276030993, 0.8443698527803184, 0.8439619575519578]\n",
      "RESULTADOS INTERMEDIOS GERMAN, I = 10\n",
      "FPRs de tic-tac-toe:\n",
      "  [0.5819505167396667, 0.5832194909160086, 0.584240781207791, 0.5848112641360058, 0.5836167655254825, 0.5801369466873267, 0.580465006104446, 0.5808642810595618, 0.5784306894375891]\n",
      "\n",
      "TPRs de tic-tac-toe:\n",
      "  [0.8542886989205565, 0.8596556189393717, 0.8549732480113311, 0.8534903234297735, 0.8500292831090968, 0.8475889469076183, 0.8461140725744655, 0.8443690401814721, 0.8440083932516559]\n",
      "RESULTADOS INTERMEDIOS TICTAC, I = 15\n",
      "FPRs de tic-tac-toe:\n",
      "  [0.5831489973683529, 0.5834111364436242, 0.5842404521640951, 0.5848354190138167, 0.5837971942169645, 0.5803096226939939, 0.5805691193759772, 0.580862933313567, 0.5783599628888977, 0.5802739136576094, 0.5807508483499111, 0.5771558853254033, 0.5781721633527699, 0.5764637236084786]\n",
      "\n",
      "TPRs de tic-tac-toe:\n",
      "  [0.8546154991945397, 0.859504232797807, 0.854965938689982, 0.8534491804130411, 0.8500141335456197, 0.8476139058655536, 0.8461527276030993, 0.8443698527803184, 0.8439619575519578, 0.8418856335843411, 0.8413019821412622, 0.8398154449744856, 0.8403370839158472, 0.8394744329656911]\n",
      "RESULTADOS INTERMEDIOS GERMAN, I = 15\n",
      "FPRs de tic-tac-toe:\n",
      "  [0.5819505167396667, 0.5832194909160086, 0.584240781207791, 0.5848112641360058, 0.5836167655254825, 0.5801369466873267, 0.580465006104446, 0.5808642810595618, 0.5784306894375891, 0.5803066177198322, 0.5805485914438899, 0.5772927782965742, 0.578120656083795, 0.5766097320452676]\n",
      "\n",
      "TPRs de tic-tac-toe:\n",
      "  [0.8542886989205565, 0.8596556189393717, 0.8549732480113311, 0.8534903234297735, 0.8500292831090968, 0.8475889469076183, 0.8461140725744655, 0.8443690401814721, 0.8440083932516559, 0.8418974150076456, 0.8412397505718334, 0.8398513305390575, 0.8404318561586788, 0.8394634332336578]\n",
      "FPRs de tic-tac-toe:\n",
      "  [0.5831489973683529, 0.5834111364436242, 0.5842404521640951, 0.5848354190138167, 0.5837971942169645, 0.5803096226939939, 0.5805691193759772, 0.580862933313567, 0.5783599628888977, 0.5802739136576094, 0.5807508483499111, 0.5771558853254033, 0.5781721633527699, 0.5764637236084786, 0.5756666404083806, 0.5751776809538139, 0.5771380242698391, 0.5789906052353165, 0.5754930121293548]\n",
      "\n",
      "TPRs de tic-tac-toe:\n",
      "  [0.8546154991945397, 0.859504232797807, 0.854965938689982, 0.8534491804130411, 0.8500141335456197, 0.8476139058655536, 0.8461527276030993, 0.8443698527803184, 0.8439619575519578, 0.8418856335843411, 0.8413019821412622, 0.8398154449744856, 0.8403370839158472, 0.8394744329656911, 0.8382136489093069, 0.8382270549518142, 0.8373561297363257, 0.8366699973112373, 0.8361581500351717]\n",
      "\n",
      "FPRs de german:\n",
      "  [0.5819505167396667, 0.5832194909160086, 0.584240781207791, 0.5848112641360058, 0.5836167655254825, 0.5801369466873267, 0.580465006104446, 0.5808642810595618, 0.5784306894375891, 0.5803066177198322, 0.5805485914438899, 0.5772927782965742, 0.578120656083795, 0.5766097320452676, 0.5759828963880038, 0.5749883198448229, 0.577012812998741, 0.5790851763658271, 0.5755807259602347]\n",
      "\n",
      "TPRs de german:\n",
      "  [0.8542886989205565, 0.8596556189393717, 0.8549732480113311, 0.8534903234297735, 0.8500292831090968, 0.8475889469076183, 0.8461140725744655, 0.8443690401814721, 0.8440083932516559, 0.8418974150076456, 0.8412397505718334, 0.8398513305390575, 0.8404318561586788, 0.8394634332336578, 0.8381624427428357, 0.8383199642230995, 0.8373180065661872, 0.8366160162452089, 0.8362574375468446]\n"
     ]
    }
   ],
   "source": [
    "from plantillasArquitectura import Datos as d\n",
    "from plantillasArquitectura import EstrategiaParticionado as ep\n",
    "from plantillasArquitectura import Clasificador as cl\n",
    "import numpy as np\n",
    "\n",
    "dataset = d.Datos('./plantillasArquitectura/datos/tic-tac-toe.data')\n",
    "clasificador = cl.ClasificadorNaiveBayes()\n",
    "TPRsTictac = []\n",
    "FPRsTictac = []\n",
    "TPRsGerman = []\n",
    "FPRsGerman = []\n",
    "\n",
    "for i in range(2, 21):\n",
    "    estrategia = ep.ValidacionCruzada(i)\n",
    "    TPTic = 0\n",
    "    FPTic = 0\n",
    "    FNTic = 0\n",
    "    TNTic = 0\n",
    "    TPGer = 0\n",
    "    FPGer = 0\n",
    "    FNGer = 0\n",
    "    TNGer = 0\n",
    "    for j in range(40):\n",
    "        errores, matriz = clasificador.validacion(estrategia,dataset,clasificador, laplace = True, ROC = True)    \n",
    "        TPTic += matriz[0][0]/40\n",
    "        FPTic += matriz[0][1]/40\n",
    "        FNTic += matriz[1][0]/40\n",
    "        TNTic += matriz[1][1]/40\n",
    "        errores, matriz = clasificador.validacion(estrategia,dataset,clasificador, laplace = True, ROC = True)    \n",
    "        TPGer += matriz[0][0]/40\n",
    "        FPGer += matriz[0][1]/40\n",
    "        FNGer += matriz[1][0]/40\n",
    "        TNGer += matriz[1][1]/40    \n",
    "    TPRsTictac.append(TPTic/(TPTic+FNTic))\n",
    "    FPRsTictac.append(FPTic/(FPTic+TNTic))\n",
    "    TPRsGerman.append(TPGer/(TPGer+FNGer))\n",
    "    FPRsGerman.append(FPGer/(FPGer+TNGer))\n",
    "    \n",
    "    if i == 10:\n",
    "        print('RESULTADOS INTERMEDIOS TICTAC, I = 10')\n",
    "        print('FPRs de tic-tac-toe:\\n ', FPRsTictac)\n",
    "        print('\\nTPRs de tic-tac-toe:\\n ', TPRsTictac)\n",
    "        print('RESULTADOS INTERMEDIOS GERMAN, I = 10')\n",
    "        print('FPRs de tic-tac-toe:\\n ', FPRsGerman)\n",
    "        print('\\nTPRs de tic-tac-toe:\\n ', TPRsGerman)\n",
    "    elif i == 15:\n",
    "        print('RESULTADOS INTERMEDIOS TICTAC, I = 15')\n",
    "        print('FPRs de tic-tac-toe:\\n ', FPRsTictac)\n",
    "        print('\\nTPRs de tic-tac-toe:\\n ', TPRsTictac)\n",
    "        print('RESULTADOS INTERMEDIOS GERMAN, I = 15')\n",
    "        print('FPRs de tic-tac-toe:\\n ', FPRsGerman)\n",
    "        print('\\nTPRs de tic-tac-toe:\\n ', TPRsGerman)\n",
    "print('FPRs de tic-tac-toe:\\n ', FPRsTictac)\n",
    "print('\\nTPRs de tic-tac-toe:\\n ', TPRsTictac)\n",
    "print('\\nFPRs de german:\\n ', FPRsGerman)\n",
    "print('\\nTPRs de german:\\n ', TPRsGerman)\n"
   ]
  },
  {
   "cell_type": "code",
   "execution_count": 4,
   "metadata": {},
   "outputs": [
    {
     "data": {
      "image/png": "[encoded data removed]",
      "text/plain": [
       "<Figure size 432x288 with 1 Axes>"
      ]
     },
     "metadata": {
      "needs_background": "light"
     },
     "output_type": "display_data"
    },
    {
     "data": {
      "image/png": "[encoded data removed]",
      "text/plain": [
       "<Figure size 432x288 with 1 Axes>"
      ]
     },
     "metadata": {
      "needs_background": "light"
     },
     "output_type": "display_data"
    },
    {
     "data": {
      "image/png": "[encoded data removed]",
      "text/plain": [
       "<Figure size 432x288 with 1 Axes>"
      ]
     },
     "metadata": {
      "needs_background": "light"
     },
     "output_type": "display_data"
    }
   ],
   "source": [
    "import matplotlib.pyplot as plt \n",
    "plt.plot(FPRsTictac, TPRsTictac , label='tic-tac-toe')\n",
    "plt.xlabel('FPR') \n",
    "plt.ylabel('TPR')\n",
    "plt.legend()\n",
    "plt.show()\n",
    "\n",
    "plt.plot(FPRsGerman, TPRsGerman, label='german')\n",
    "plt.xlabel('FPR') \n",
    "plt.ylabel('TPR')\n",
    "plt.legend()\n",
    "plt.show()\n",
    "\n",
    "plt.plot(FPRsTictac, TPRsTictac , label='tic-tac-toe')\n",
    "plt.plot(FPRsGerman, TPRsGerman, label='german')\n",
    "plt.xlabel('FPR') \n",
    "plt.ylabel('TPR')\n",
    "plt.legend()\n",
    "plt.show()\n"
   ]
  },
  {
   "cell_type": "markdown",
   "metadata": {},
   "source": [
    "Aunque desafortunadamente, las líneas no tienen la pinta de 'curva' que esperábamos, es interesante comprobar cómo ambos sets de datos se comportan de manera prácticamente idéntica entre sí ante distintos valores de $K$."
   ]
  }
 ],
 "metadata": {
  "kernelspec": {
   "display_name": "Python 3",
   "language": "python",
   "name": "python3"
  },
  "language_info": {
   "codemirror_mode": {
    "name": "ipython",
    "version": 3
   },
   "file_extension": ".py",
   "mimetype": "text/x-python",
   "name": "python",
   "nbconvert_exporter": "python",
   "pygments_lexer": "ipython3",
   "version": "3.7.3"
  }
 },
 "nbformat": 4,
 "nbformat_minor": 2
}
