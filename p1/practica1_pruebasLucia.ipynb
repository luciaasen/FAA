{
 "cells": [
  {
   "cell_type": "code",
   "execution_count": 1,
   "metadata": {},
   "outputs": [
    {
     "name": "stdout",
     "output_type": "stream",
     "text": [
      "['Age', 'Spectacle', 'Astigmatic', 'Tear', 'Class']\n",
      "['Nominal', 'Nominal', 'Nominal', 'Nominal', 'Nominal']\n",
      "[True, True, True, True, True]\n",
      "[{'1': 0, '2': 1, '3': 2}, {'1': 0, '2': 1}, {'1': 0, '2': 1}, {'1': 0, '2': 1}, {'1': 0, '2': 1, '3': 2}]\n",
      "[[0. 0. 0. 0. 2.]\n",
      " [0. 0. 0. 1. 1.]\n",
      " [0. 0. 1. 0. 2.]\n",
      " [0. 0. 1. 1. 0.]\n",
      " [0. 1. 0. 0. 2.]\n",
      " [0. 1. 0. 1. 1.]\n",
      " [0. 1. 1. 0. 2.]\n",
      " [0. 1. 1. 1. 0.]\n",
      " [1. 0. 0. 0. 2.]\n",
      " [1. 0. 0. 1. 1.]\n",
      " [1. 0. 1. 0. 2.]\n",
      " [1. 0. 1. 1. 0.]\n",
      " [1. 1. 0. 0. 2.]\n",
      " [1. 1. 0. 1. 1.]\n",
      " [1. 1. 1. 0. 2.]\n",
      " [1. 1. 1. 1. 2.]\n",
      " [2. 0. 0. 0. 2.]\n",
      " [2. 0. 0. 1. 2.]\n",
      " [2. 0. 1. 0. 2.]\n",
      " [2. 0. 1. 1. 0.]\n",
      " [2. 1. 0. 0. 2.]\n",
      " [2. 1. 0. 1. 1.]\n",
      " [2. 1. 1. 0. 2.]\n",
      " [2. 1. 1. 1. 2.]]\n"
     ]
    }
   ],
   "source": [
    "from plantillasArquitectura import Datos as d\n",
    "from scipy.stats import norm\n",
    "\n",
    "import numpy as np\n",
    "lenses = d.Datos('./plantillasArquitectura/datos/conjunto_datos_lentillas.txt')\n",
    "lenses.datos\n",
    "datosTrain=lenses.datos\n",
    "atributosDiscretos = lenses.nominalAtributos\n",
    "print(lenses.nombreAtributos)\n",
    "print(lenses.tipoAtributos)\n",
    "print(lenses.nominalAtributos)\n",
    "print(lenses.diccionarios)\n",
    "print(lenses.datos)"
   ]
  },
  {
   "cell_type": "code",
   "execution_count": 2,
   "metadata": {},
   "outputs": [
    {
     "name": "stdout",
     "output_type": "stream",
     "text": [
      "{'1': 0, '2': 1, '3': 2}\n",
      "1\n",
      "2\n",
      "3\n",
      "dict_keys(['1', '2', '3'])\n",
      "['1', '2', '3']\n",
      "['1', '2', '3', 9, 9, 9, 9]\n"
     ]
    }
   ],
   "source": [
    "print(lenses.diccionarios[-1])\n",
    "a = []\n",
    "b =[9,9,9,9,9,9,9]\n",
    "i = 0\n",
    "for key in lenses.diccionarios[-1]:\n",
    "    print(key)\n",
    "    a.append(key)\n",
    "    b[i]=key\n",
    "    i+=1\n",
    "print(lenses.diccionarios[-1].keys())\n",
    "print(a)\n",
    "print(b)"
   ]
  },
  {
   "cell_type": "code",
   "execution_count": null,
   "metadata": {},
   "outputs": [],
   "source": []
  },
  {
   "cell_type": "code",
   "execution_count": null,
   "metadata": {},
   "outputs": [],
   "source": []
  },
  {
   "cell_type": "code",
   "execution_count": 3,
   "metadata": {},
   "outputs": [
    {
     "name": "stdout",
     "output_type": "stream",
     "text": [
      "(24, 5)\n",
      "<class 'numpy.ndarray'>\n",
      "[0. 0. 0. 0. 0. 0. 0. 0. 1. 0. 1. 0. 0. 0. 1.]\n",
      "0.752843580387011\n"
     ]
    },
    {
     "data": {
      "text/plain": [
       "7"
      ]
     },
     "execution_count": 3,
     "metadata": {},
     "output_type": "execute_result"
    }
   ],
   "source": [
    "print(datosTrain.shape)\n",
    "print(type(datosTrain))\n",
    "prioris = dict()\n",
    "nDatos = len(datosTrain)\n",
    "classIdx = np.size(datosTrain,1)-1 \n",
    "for dato in datosTrain:\n",
    "    clase = dato[classIdx]\n",
    "    if clase not in prioris.keys():\n",
    "        prioris[clase] = 1/nDatos\n",
    "    else :\n",
    "        prioris[clase] += 1/nDatos\n",
    "classes = list((datosTrain[:, -1]))\n",
    "third = list(set(datosTrain[:, 2]))\n",
    "\n",
    "filteredColumn = datosTrain[datosTrain[:,-1]==classes[0]][:,3]\n",
    "print(filteredColumn)\n",
    "mean = np.mean(filteredColumn)\n",
    "std = np.std(filteredColumn)\n",
    "gen = norm(mean, std)\n",
    "print(gen.pdf(0.5))                \n",
    "np.sum((datosTrain[:,2]==third[0] ) & (datosTrain[:,-1]==classes[0]))"
   ]
  },
  {
   "cell_type": "code",
   "execution_count": null,
   "metadata": {},
   "outputs": [],
   "source": []
  },
  {
   "cell_type": "code",
   "execution_count": null,
   "metadata": {},
   "outputs": [],
   "source": []
  },
  {
   "cell_type": "code",
   "execution_count": null,
   "metadata": {},
   "outputs": [],
   "source": []
  },
  {
   "cell_type": "code",
   "execution_count": null,
   "metadata": {},
   "outputs": [],
   "source": []
  },
  {
   "cell_type": "code",
   "execution_count": null,
   "metadata": {},
   "outputs": [],
   "source": []
  },
  {
   "cell_type": "code",
   "execution_count": null,
   "metadata": {},
   "outputs": [],
   "source": []
  },
  {
   "cell_type": "code",
   "execution_count": 4,
   "metadata": {},
   "outputs": [],
   "source": [
    "from plantillasArquitectura import Clasificador as cl\n",
    "from plantillasArquitectura import EstrategiaParticionado as ep\n",
    "from plantillasArquitectura import Datos as d\n",
    "\n",
    "dataset = d.Datos('./plantillasArquitectura/datos/conjunto_datos_lentillas.txt')\n",
    "estrategia = ep.ValidacionSimple('Nombre de estrategia', 25)\n",
    "clasificador = cl.ClasificadorNaiveBayes()\n",
    "errores = clasificador.validacion(estrategia,dataset,clasificador)"
   ]
  },
  {
   "cell_type": "code",
   "execution_count": 5,
   "metadata": {
    "scrolled": true
   },
   "outputs": [
    {
     "name": "stdout",
     "output_type": "stream",
     "text": [
      "clase  0 atributo num 1\n",
      "[45.]\n",
      "[[42.  2.]\n",
      " [48.  1.]\n",
      " [11.  1.]\n",
      " ...\n",
      " [36.  2.]\n",
      " [26.  1.]\n",
      " [21.  1.]]\n",
      "clase  0 atributo num 4\n",
      "[4576.]\n",
      "[[3.965e+03 2.000e+00]\n",
      " [7.476e+03 1.000e+00]\n",
      " [4.771e+03 1.000e+00]\n",
      " ...\n",
      " [8.229e+03 2.000e+00]\n",
      " [7.966e+03 1.000e+00]\n",
      " [2.993e+03 1.000e+00]]\n",
      "clase  0 atributo num 7\n",
      "[3.]\n",
      "[[4. 2.]\n",
      " [4. 1.]\n",
      " [2. 1.]\n",
      " ...\n",
      " [2. 2.]\n",
      " [2. 1.]\n",
      " [3. 1.]]\n",
      "clase  0 atributo num 10\n",
      "[4.]\n",
      "[[3. 2.]\n",
      " [1. 1.]\n",
      " [4. 1.]\n",
      " ...\n",
      " [2. 2.]\n",
      " [3. 1.]\n",
      " [2. 1.]]\n",
      "clase  0 atributo num 12\n",
      "[27.]\n",
      "[[34.  2.]\n",
      " [50.  1.]\n",
      " [51.  1.]\n",
      " ...\n",
      " [26.  2.]\n",
      " [30.  1.]\n",
      " [28.  1.]]\n",
      "clase  0 atributo num 15\n",
      "[1.]\n",
      "[[1. 2.]\n",
      " [1. 1.]\n",
      " [1. 1.]\n",
      " ...\n",
      " [1. 2.]\n",
      " [2. 1.]\n",
      " [2. 1.]]\n",
      "clase  0 atributo num 17\n",
      "[1.]\n",
      "[[1. 2.]\n",
      " [1. 1.]\n",
      " [1. 1.]\n",
      " ...\n",
      " [2. 2.]\n",
      " [1. 1.]\n",
      " [1. 1.]]\n"
     ]
    },
    {
     "name": "stderr",
     "output_type": "stream",
     "text": [
      "/usr/local/lib/python3.6/dist-packages/scipy/stats/_distn_infrastructure.py:1720: RuntimeWarning: divide by zero encountered in double_scalars\n",
      "  x = np.asarray((x - loc)/scale, dtype=dtyp)\n",
      "/usr/local/lib/python3.6/dist-packages/scipy/stats/_distn_infrastructure.py:1720: RuntimeWarning: invalid value encountered in double_scalars\n",
      "  x = np.asarray((x - loc)/scale, dtype=dtyp)\n"
     ]
    }
   ],
   "source": [
    "from plantillasArquitectura import Clasificador as cl\n",
    "from plantillasArquitectura import EstrategiaParticionado as ep\n",
    "from plantillasArquitectura import Datos as d\n",
    "\n",
    "dataset = d.Datos('./plantillasArquitectura/datos/german.data')\n",
    "estrategia = ep.ValidacionSimple('Nombre de estrategia', 25)\n",
    "clasificador = cl.ClasificadorNaiveBayes()\n",
    "errores = clasificador.validacion(estrategia,dataset,clasificador)"
   ]
  },
  {
   "cell_type": "code",
   "execution_count": 13,
   "metadata": {},
   "outputs": [
    {
     "name": "stdout",
     "output_type": "stream",
     "text": [
      "[   0.    6.    4.    4. 1169.    4.    4.    4.    2.    0.    4.    0.\n",
      "   67.    2.    1.    2.    2.    1.    1.    0.    1.]\n",
      "[   1.   48.    2.    4. 5951.    0.    2.    2.    1.    0.    2.    0.\n",
      "   22.    2.    1.    1.    2.    1.    0.    0.    2.]\n",
      "[   3.   12.    4.    7. 2096.    0.    3.    2.    2.    0.    3.    0.\n",
      "   49.    2.    1.    1.    1.    2.    0.    0.    1.]\n",
      "[   0.   42.    2.    3. 7882.    0.    3.    2.    2.    2.    4.    1.\n",
      "   45.    2.    2.    1.    2.    2.    0.    0.    1.]\n",
      "[   0.   24.    3.    0. 4870.    0.    2.    3.    2.    0.    4.    3.\n",
      "   53.    2.    2.    2.    2.    2.    0.    0.    2.]\n",
      "[   3.   36.    2.    7. 9055.    4.    2.    2.    2.    0.    4.    3.\n",
      "   35.    2.    2.    1.    1.    2.    1.    0.    1.]\n",
      "[   3.   24.    2.    3. 2835.    2.    4.    3.    2.    0.    4.    1.\n",
      "   53.    2.    1.    1.    2.    1.    0.    0.    1.]\n",
      "[   1.   36.    2.    1. 6948.    0.    2.    2.    2.    0.    2.    2.\n",
      "   35.    2.    0.    1.    3.    1.    1.    0.    1.]\n",
      "[   3.   12.    2.    4. 3059.    3.    3.    2.    0.    0.    4.    0.\n",
      "   61.    2.    1.    1.    1.    1.    0.    0.    1.]\n",
      "[   1.   30.    4.    0. 5234.    0.    0.    4.    3.    0.    2.    2.\n",
      "   28.    2.    1.    2.    3.    1.    0.    0.    2.]\n",
      "[[   3.   12.    4.    7. 3565.    4.    1.    2.    2.    0.    1.    1.\n",
      "    37.    2.    1.    2.    1.    2.    0.    0.    1.]\n",
      " [   3.   15.    1.    4. 1569.    1.    4.    4.    2.    0.    4.    2.\n",
      "    34.    0.    1.    1.    1.    2.    0.    0.    1.]\n",
      " [   0.   18.    2.    4. 1936.    4.    3.    2.    3.    0.    4.    2.\n",
      "    23.    2.    0.    2.    1.    1.    0.    0.    1.]\n",
      " [   0.   36.    2.    3. 3959.    0.    0.    4.    2.    0.    3.    1.\n",
      "    30.    2.    1.    1.    3.    1.    1.    0.    1.]\n",
      " [   3.   12.    2.    0. 2390.    4.    4.    4.    2.    0.    3.    2.\n",
      "    50.    2.    1.    1.    2.    1.    1.    0.    1.]\n",
      " [   3.   12.    2.    3. 1736.    0.    3.    3.    1.    0.    4.    0.\n",
      "    31.    2.    1.    1.    1.    1.    0.    0.    1.]\n",
      " [   0.   30.    2.    1. 3857.    0.    2.    4.    0.    0.    4.    1.\n",
      "    40.    2.    1.    1.    3.    1.    1.    0.    1.]\n",
      " [   3.   12.    2.    4.  804.    0.    4.    4.    2.    0.    4.    2.\n",
      "    38.    2.    1.    1.    2.    1.    0.    0.    1.]\n",
      " [   0.   45.    2.    4. 1845.    0.    2.    4.    2.    0.    4.    3.\n",
      "    23.    2.    2.    1.    2.    1.    1.    0.    2.]\n",
      " [   1.   45.    4.    1. 4576.    1.    0.    3.    2.    0.    4.    2.\n",
      "    27.    2.    1.    1.    2.    1.    0.    0.    0.]]\n"
     ]
    }
   ],
   "source": [
    "np.set_printoptions(suppress=True)\n",
    "for i in range(10):\n",
    "    print(dataset.datos[i])\n",
    "print(dataset.datos[-10:])\n"
   ]
  },
  {
   "cell_type": "code",
   "execution_count": 14,
   "metadata": {},
   "outputs": [
    {
     "name": "stdout",
     "output_type": "stream",
     "text": [
      "[[ 0.  6.  4. ...  1.  0.  1.]\n",
      " [ 1. 48.  2. ...  0.  0.  2.]\n",
      " [ 3. 12.  4. ...  0.  0.  1.]\n",
      " ...\n",
      " [ 3. 12.  2. ...  0.  0.  1.]\n",
      " [ 0. 45.  2. ...  1.  0.  2.]\n",
      " [ 1. 45.  4. ...  0.  0.  0.]]\n"
     ]
    }
   ],
   "source": [
    "print(dataset.datos)"
   ]
  },
  {
   "cell_type": "code",
   "execution_count": null,
   "metadata": {},
   "outputs": [],
   "source": []
  }
 ],
 "metadata": {
  "kernelspec": {
   "display_name": "Python 3",
   "language": "python",
   "name": "python3"
  },
  "language_info": {
   "codemirror_mode": {
    "name": "ipython",
    "version": 3
   },
   "file_extension": ".py",
   "mimetype": "text/x-python",
   "name": "python",
   "nbconvert_exporter": "python",
   "pygments_lexer": "ipython3",
   "version": "3.6.8"
  }
 },
 "nbformat": 4,
 "nbformat_minor": 2
}
