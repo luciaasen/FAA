{
 "cells": [
  {
   "cell_type": "code",
   "execution_count": 13,
   "metadata": {},
   "outputs": [
    {
     "name": "stdout",
     "output_type": "stream",
     "text": [
      "['Age', 'Spectacle', 'Astigmatic', 'Tear', 'Class']\n",
      "['Nominal', 'Nominal', 'Nominal', 'Nominal', 'Nominal']\n",
      "[True, True, True, True, True]\n",
      "[{'1': 0, '2': 1, '3': 2}, {'1': 0, '2': 1}, {'1': 0, '2': 1}, {'1': 0, '2': 1}, {'1': 0, '2': 1, '3': 2}]\n",
      "[[0. 0. 0. 0. 2.]\n",
      " [0. 0. 0. 1. 1.]\n",
      " [0. 0. 1. 0. 2.]\n",
      " [0. 0. 1. 1. 0.]\n",
      " [0. 1. 0. 0. 2.]\n",
      " [0. 1. 0. 1. 1.]\n",
      " [0. 1. 1. 0. 2.]\n",
      " [0. 1. 1. 1. 0.]\n",
      " [1. 0. 0. 0. 2.]\n",
      " [1. 0. 0. 1. 1.]\n",
      " [1. 0. 1. 0. 2.]\n",
      " [1. 0. 1. 1. 0.]\n",
      " [1. 1. 0. 0. 2.]\n",
      " [1. 1. 0. 1. 1.]\n",
      " [1. 1. 1. 0. 2.]\n",
      " [1. 1. 1. 1. 2.]\n",
      " [2. 0. 0. 0. 2.]\n",
      " [2. 0. 0. 1. 2.]\n",
      " [2. 0. 1. 0. 2.]\n",
      " [2. 0. 1. 1. 0.]\n",
      " [2. 1. 0. 0. 2.]\n",
      " [2. 1. 0. 1. 1.]\n",
      " [2. 1. 1. 0. 2.]\n",
      " [2. 1. 1. 1. 2.]]\n"
     ]
    }
   ],
   "source": [
    "from plantillasArquitectura import Datos as d\n",
    "from scipy.stats import norm\n",
    "\n",
    "import numpy as np\n",
    "lenses = d.Datos('./plantillasArquitectura/datos/conjunto_datos_lentillas.txt')\n",
    "lenses.datos\n",
    "datosTrain=lenses.datos\n",
    "atributosDiscretos = lenses.nominalAtributos\n",
    "print(lenses.nombreAtributos)\n",
    "print(lenses.tipoAtributos)\n",
    "print(lenses.nominalAtributos)\n",
    "print(lenses.diccionarios)\n",
    "print(lenses.datos)"
   ]
  },
  {
   "cell_type": "code",
   "execution_count": 14,
   "metadata": {},
   "outputs": [
    {
     "data": {
      "text/plain": [
       "0.16666666666666666"
      ]
     },
     "execution_count": 14,
     "metadata": {},
     "output_type": "execute_result"
    }
   ],
   "source": [
    "from plantillasArquitectura import Clasificador as cl\n",
    "from plantillasArquitectura import EstrategiaParticionado as ep\n",
    "from plantillasArquitectura import Datos as d\n",
    "\n",
    "dataset = d.Datos('./plantillasArquitectura/datos/conjunto_datos_lentillas.txt')\n",
    "estrategia = ep.ValidacionSimple(25)\n",
    "clasificador = cl.ClasificadorNaiveBayes()\n",
    "errores = clasificador.validacion(estrategia,dataset,clasificador)\n",
    "errores"
   ]
  },
  {
   "cell_type": "code",
   "execution_count": 15,
   "metadata": {},
   "outputs": [
    {
     "data": {
      "text/plain": [
       "0.25"
      ]
     },
     "execution_count": 15,
     "metadata": {},
     "output_type": "execute_result"
    }
   ],
   "source": [
    "from plantillasArquitectura import Clasificador as cl\n",
    "from plantillasArquitectura import EstrategiaParticionado as ep\n",
    "from plantillasArquitectura import Datos as d\n",
    "\n",
    "dataset = d.Datos('./plantillasArquitectura/datos/conjunto_datos_lentillas.txt')\n",
    "estrategia = ep.ValidacionCruzada(5)\n",
    "clasificador = cl.ClasificadorNaiveBayes()\n",
    "errores = clasificador.validacion(estrategia,dataset,clasificador)\n",
    "errores"
   ]
  },
  {
   "cell_type": "code",
   "execution_count": 16,
   "metadata": {},
   "outputs": [
    {
     "data": {
      "text/plain": [
       "0.26778242677824265"
      ]
     },
     "execution_count": 16,
     "metadata": {},
     "output_type": "execute_result"
    }
   ],
   "source": [
    "from plantillasArquitectura import Clasificador as cl\n",
    "from plantillasArquitectura import EstrategiaParticionado as ep\n",
    "from plantillasArquitectura import Datos as d\n",
    "\n",
    "dataset = d.Datos('./plantillasArquitectura/datos/tic-tac-toe.data')\n",
    "estrategia = ep.ValidacionSimple( 25)\n",
    "clasificador = cl.ClasificadorNaiveBayes()\n",
    "errores = clasificador.validacion(estrategia,dataset,clasificador)\n",
    "errores"
   ]
  },
  {
   "cell_type": "code",
   "execution_count": 17,
   "metadata": {},
   "outputs": [
    {
     "data": {
      "text/plain": [
       "0.30526315789473685"
      ]
     },
     "execution_count": 17,
     "metadata": {},
     "output_type": "execute_result"
    }
   ],
   "source": [
    "from plantillasArquitectura import Clasificador as cl\n",
    "from plantillasArquitectura import EstrategiaParticionado as ep\n",
    "from plantillasArquitectura import Datos as d\n",
    "\n",
    "dataset = d.Datos('./plantillasArquitectura/datos/tic-tac-toe.data')\n",
    "estrategia = ep.ValidacionCruzada( 10)\n",
    "clasificador = cl.ClasificadorNaiveBayes()\n",
    "errores = clasificador.validacion(estrategia,dataset,clasificador)\n",
    "errores"
   ]
  },
  {
   "cell_type": "code",
   "execution_count": 20,
   "metadata": {
    "scrolled": true
   },
   "outputs": [
    {
     "data": {
      "text/plain": [
       "0.26"
      ]
     },
     "execution_count": 20,
     "metadata": {},
     "output_type": "execute_result"
    }
   ],
   "source": [
    "from plantillasArquitectura import Clasificador as cl\n",
    "from plantillasArquitectura import EstrategiaParticionado as ep\n",
    "from plantillasArquitectura import Datos as d\n",
    "\n",
    "dataset = d.Datos('./plantillasArquitectura/datos/german.data')\n",
    "estrategia = ep.ValidacionSimple(25)\n",
    "clasificador = cl.ClasificadorNaiveBayes()\n",
    "errores = clasificador.validacion(estrategia,dataset,clasificador)\n",
    "errores"
   ]
  },
  {
   "cell_type": "code",
   "execution_count": 19,
   "metadata": {},
   "outputs": [
    {
     "data": {
      "text/plain": [
       "0.2505070993914807"
      ]
     },
     "execution_count": 19,
     "metadata": {},
     "output_type": "execute_result"
    }
   ],
   "source": [
    "from plantillasArquitectura import Clasificador as cl\n",
    "from plantillasArquitectura import EstrategiaParticionado as ep\n",
    "from plantillasArquitectura import Datos as d\n",
    "\n",
    "dataset = d.Datos('./plantillasArquitectura/datos/german.data')\n",
    "estrategia = ep.ValidacionCruzada(17)\n",
    "clasificador = cl.ClasificadorNaiveBayes()\n",
    "errores = clasificador.validacion(estrategia,dataset,clasificador)\n",
    "errores"
   ]
  },
  {
   "cell_type": "code",
   "execution_count": null,
   "metadata": {},
   "outputs": [],
   "source": [
    "\n"
   ]
  },
  {
   "cell_type": "code",
   "execution_count": null,
   "metadata": {},
   "outputs": [],
   "source": []
  },
  {
   "cell_type": "code",
   "execution_count": null,
   "metadata": {},
   "outputs": [],
   "source": []
  },
  {
   "cell_type": "code",
   "execution_count": null,
   "metadata": {},
   "outputs": [],
   "source": []
  }
 ],
 "metadata": {
  "kernelspec": {
   "display_name": "Python 3",
   "language": "python",
   "name": "python3"
  },
  "language_info": {
   "codemirror_mode": {
    "name": "ipython",
    "version": 3
   },
   "file_extension": ".py",
   "mimetype": "text/x-python",
   "name": "python",
   "nbconvert_exporter": "python",
   "pygments_lexer": "ipython3",
   "version": "3.6.8"
  }
 },
 "nbformat": 4,
 "nbformat_minor": 2
}
