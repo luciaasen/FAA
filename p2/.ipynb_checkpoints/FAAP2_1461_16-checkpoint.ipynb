{
 "cells": [
  {
   "cell_type": "markdown",
   "metadata": {},
   "source": [
    "# Práctica 2 FAA\n",
    "___\n",
    "#### Grupo 1461, pareja 16\n",
    "#### Alfonso Carvajal y Lucía Asencio\n",
    "___"
   ]
  },
  {
   "cell_type": "markdown",
   "metadata": {},
   "source": [
    "## Apartado 1: KNN\n",
    "___"
   ]
  },
  {
   "cell_type": "code",
   "execution_count": null,
   "metadata": {},
   "outputs": [],
   "source": []
  },
  {
   "cell_type": "markdown",
   "metadata": {},
   "source": [
    "## Apartado 2: Regresión Logística\n",
    "___"
   ]
  },
  {
   "cell_type": "code",
   "execution_count": 3,
   "metadata": {},
   "outputs": [],
   "source": [
    "import Clasificador as cl\n",
    "import EstrategiaParticionado as ep\n",
    "import Datos as d\n",
    "\n",
    "file = './datos/online_shoppers.data'\n",
    "dataset = d.Datos(file)\n",
    "clasificador = cl.ClasificadorRegresionLogistica()\n",
    "estrategia = ep.ValidacionSimple(25)\n",
    "errores = clasificador.validacion(estrategia,dataset,clasificador)"
   ]
  },
  {
   "cell_type": "code",
   "execution_count": 4,
   "metadata": {},
   "outputs": [
    {
     "data": {
      "text/plain": [
       "0.1537962362102531"
      ]
     },
     "execution_count": 4,
     "metadata": {},
     "output_type": "execute_result"
    }
   ],
   "source": [
    "errores"
   ]
  },
  {
   "cell_type": "markdown",
   "metadata": {},
   "source": [
    "## Apartado 3: Scikit\n",
    "___"
   ]
  },
  {
   "cell_type": "code",
   "execution_count": 12,
   "metadata": {},
   "outputs": [
    {
     "data": {
      "text/plain": [
       "SGDClassifier(alpha=0.0001, average=False, class_weight=None,\n",
       "              early_stopping=False, epsilon=0.1, eta0=0.0, fit_intercept=True,\n",
       "              l1_ratio=0.15, learning_rate='optimal', loss='hinge',\n",
       "              max_iter=1000, n_iter_no_change=5, n_jobs=None, penalty='l2',\n",
       "              power_t=0.5, random_state=None, shuffle=True, tol=0.001,\n",
       "              validation_fraction=0.1, verbose=0, warm_start=False)"
      ]
     },
     "execution_count": 12,
     "metadata": {},
     "output_type": "execute_result"
    }
   ],
   "source": [
    "import numpy as np\n",
    "from sklearn import linear_model\n",
    "X = np.array([[-1, -1], [-2, -1], [1, 1], [2, 1]])\n",
    "Y = np.array([1, 1, 2, 2])\n",
    "clf = linear_model.SGDClassifier(max_iter=1000, tol=1e-3)\n",
    "\n",
    "clf.fit(X, Y)"
   ]
  },
  {
   "cell_type": "code",
   "execution_count": 11,
   "metadata": {},
   "outputs": [
    {
     "name": "stdout",
     "output_type": "stream",
     "text": [
      "\n",
      " ./datos/wdbc.data \n",
      "SGD\n",
      "\n",
      "VSimple, 0.25 %, CteApr  0.5 Epocas  100 \n",
      "Error medio: 0.05559440559440558 \n",
      "Desviacion tipica: 0.013537385092731396\n",
      "\n",
      "VSimple, 0.25 %, CteApr  1.0 Epocas  100 \n",
      "Error medio: 0.05034965034965035 \n",
      "Desviacion tipica: 0.015095827374071943\n",
      "\n",
      "VSimple, 0.25 %, CteApr  1.5 Epocas  100 \n",
      "Error medio: 0.04580419580419582 \n",
      "Desviacion tipica: 0.025356280782259977\n",
      "\n",
      "VSimple, 0.25 %, CteApr  2.0 Epocas  100 \n",
      "Error medio: 0.06048951048951048 \n",
      "Desviacion tipica: 0.012946509497603922\n",
      "\n",
      "VSimple, 0.25 %, CteApr  2.5 Epocas  100 \n",
      "Error medio: 0.052097902097902105 \n",
      "Desviacion tipica: 0.01996071744921969\n",
      "\n",
      "VSimple, 0.3 %, CteApr  0.5 Epocas  100 \n",
      "Error medio: 0.05321637426900587 \n",
      "Desviacion tipica: 0.015571376556367653\n",
      "\n",
      "VSimple, 0.3 %, CteApr  1.0 Epocas  100 \n",
      "Error medio: 0.04678362573099416 \n",
      "Desviacion tipica: 0.016227411608785512\n",
      "\n",
      "VSimple, 0.3 %, CteApr  1.5 Epocas  100 \n",
      "Error medio: 0.05467836257309944 \n",
      "Desviacion tipica: 0.010826613205598612\n",
      "\n",
      "VSimple, 0.3 %, CteApr  2.0 Epocas  100 \n",
      "Error medio: 0.04883040935672518 \n",
      "Desviacion tipica: 0.017276223680377137\n",
      "\n",
      "VSimple, 0.3 %, CteApr  2.5 Epocas  100 \n",
      "Error medio: 0.06783625730994154 \n",
      "Desviacion tipica: 0.024561403508771926\n",
      "\n",
      "VCruzada K =, 5 CteApr  0.5 Epocas  100 \n",
      "Error medio: 0.0544760130414532 \n",
      "Desviacion tipica: 0.00753634316016771\n",
      "\n",
      "VCruzada K =, 5 CteApr  1.0 Epocas  100 \n",
      "Error medio: 0.05409718987734824 \n",
      "Desviacion tipica: 0.0034051242429521873\n",
      "\n",
      "VCruzada K =, 5 CteApr  1.5 Epocas  100 \n",
      "Error medio: 0.05520571339854059 \n",
      "Desviacion tipica: 0.006906219303633284\n",
      "\n",
      "VCruzada K =, 5 CteApr  2.0 Epocas  100 \n",
      "Error medio: 0.05131811830461108 \n",
      "Desviacion tipica: 0.0020385831516544703\n",
      "\n",
      "VCruzada K =, 5 CteApr  2.5 Epocas  100 \n",
      "Error medio: 0.06152150287222484 \n",
      "Desviacion tipica: 0.013300698439020419\n",
      "\n",
      "VCruzada K =, 10 CteApr  0.5 Epocas  100 \n",
      "Error medio: 0.05657268170426064 \n",
      "Desviacion tipica: 0.00410892873277931\n",
      "\n",
      "VCruzada K =, 10 CteApr  1.0 Epocas  100 \n",
      "Error medio: 0.05307644110275691 \n",
      "Desviacion tipica: 0.006686329756246118\n",
      "\n",
      "VCruzada K =, 10 CteApr  1.5 Epocas  100 \n",
      "Error medio: 0.054461152882205474 \n",
      "Desviacion tipica: 0.006295966823788251\n",
      "\n",
      "VCruzada K =, 10 CteApr  2.0 Epocas  100 \n",
      "Error medio: 0.0513345864661654 \n",
      "Desviacion tipica: 0.006456480380684465\n",
      "\n",
      "VCruzada K =, 10 CteApr  2.5 Epocas  100 \n",
      "Error medio: 0.06011278195488732 \n",
      "Desviacion tipica: 0.009102619225991372\n",
      "\n",
      "VCruzada K =, 15 CteApr  0.5 Epocas  100 \n",
      "Error medio: 0.05025130393551454 \n",
      "Desviacion tipica: 0.0024306155332155252\n",
      "\n",
      "VCruzada K =, 15 CteApr  1.0 Epocas  100 \n",
      "Error medio: 0.05412043622569942 \n",
      "Desviacion tipica: 0.003210104685613652\n",
      "\n",
      "VCruzada K =, 15 CteApr  1.5 Epocas  100 \n",
      "Error medio: 0.051313418681839786 \n",
      "Desviacion tipica: 0.010494974679530908\n",
      "\n",
      "VCruzada K =, 15 CteApr  2.0 Epocas  100 \n",
      "Error medio: 0.05342816500711243 \n",
      "Desviacion tipica: 0.00804753898525724\n",
      "\n",
      "VCruzada K =, 15 CteApr  2.5 Epocas  100 \n",
      "Error medio: 0.05523944997629213 \n",
      "Desviacion tipica: 0.007225588598515323\n"
     ]
    }
   ],
   "source": [
    "import scikit\n",
    "epocas = [100]\n",
    "ctesApr = [(x+1) * 0.5 for x in range(5)]\n",
    "fileName = './datos/wdbc.data'\n",
    "scikit.logReg(fileName, epocas, ctesApr)"
   ]
  },
  {
   "cell_type": "markdown",
   "metadata": {},
   "source": [
    "## Apartado 4: ROC\n",
    "___"
   ]
  },
  {
   "cell_type": "code",
   "execution_count": null,
   "metadata": {},
   "outputs": [],
   "source": []
  }
 ],
 "metadata": {
  "kernelspec": {
   "display_name": "Python 3",
   "language": "python",
   "name": "python3"
  },
  "language_info": {
   "codemirror_mode": {
    "name": "ipython",
    "version": 3
   },
   "file_extension": ".py",
   "mimetype": "text/x-python",
   "name": "python",
   "nbconvert_exporter": "python",
   "pygments_lexer": "ipython3",
   "version": "3.6.8"
  }
 },
 "nbformat": 4,
 "nbformat_minor": 2
}
